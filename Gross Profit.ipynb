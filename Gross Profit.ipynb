{
 "cells": [
  {
   "cell_type": "markdown",
   "id": "c49b42f1-8c3f-481b-aeaf-d1971d3d411d",
   "metadata": {},
   "source": [
    "# GROSS PROFIT CALCULATOR FOR VENDORS"
   ]
  },
  {
   "cell_type": "code",
   "execution_count": 133,
   "id": "0f7b1e80",
   "metadata": {},
   "outputs": [
    {
     "name": "stdout",
     "output_type": "stream",
     "text": [
      "Requirement already satisfied: pandas in /Users/vagif/Desktop/Work docs/Gross Profit Calculator/.venv/lib/python3.12/site-packages (2.2.2)\n",
      "Requirement already satisfied: numpy>=1.26.0 in /Users/vagif/Desktop/Work docs/Gross Profit Calculator/.venv/lib/python3.12/site-packages (from pandas) (2.1.1)\n",
      "Requirement already satisfied: python-dateutil>=2.8.2 in /Users/vagif/Desktop/Work docs/Gross Profit Calculator/.venv/lib/python3.12/site-packages (from pandas) (2.9.0.post0)\n",
      "Requirement already satisfied: pytz>=2020.1 in /Users/vagif/Desktop/Work docs/Gross Profit Calculator/.venv/lib/python3.12/site-packages (from pandas) (2024.1)\n",
      "Requirement already satisfied: tzdata>=2022.7 in /Users/vagif/Desktop/Work docs/Gross Profit Calculator/.venv/lib/python3.12/site-packages (from pandas) (2024.1)\n",
      "Requirement already satisfied: six>=1.5 in /Users/vagif/Desktop/Work docs/Gross Profit Calculator/.venv/lib/python3.12/site-packages (from python-dateutil>=2.8.2->pandas) (1.16.0)\n",
      "Note: you may need to restart the kernel to use updated packages.\n"
     ]
    }
   ],
   "source": [
    "pip install pandas"
   ]
  },
  {
   "cell_type": "code",
   "execution_count": 134,
   "id": "bd030bf0",
   "metadata": {},
   "outputs": [
    {
     "name": "stdout",
     "output_type": "stream",
     "text": [
      "Requirement already satisfied: matplotlib in /Users/vagif/Desktop/Work docs/Gross Profit Calculator/.venv/lib/python3.12/site-packages (3.9.2)\n",
      "Requirement already satisfied: contourpy>=1.0.1 in /Users/vagif/Desktop/Work docs/Gross Profit Calculator/.venv/lib/python3.12/site-packages (from matplotlib) (1.3.0)\n",
      "Requirement already satisfied: cycler>=0.10 in /Users/vagif/Desktop/Work docs/Gross Profit Calculator/.venv/lib/python3.12/site-packages (from matplotlib) (0.12.1)\n",
      "Requirement already satisfied: fonttools>=4.22.0 in /Users/vagif/Desktop/Work docs/Gross Profit Calculator/.venv/lib/python3.12/site-packages (from matplotlib) (4.53.1)\n",
      "Requirement already satisfied: kiwisolver>=1.3.1 in /Users/vagif/Desktop/Work docs/Gross Profit Calculator/.venv/lib/python3.12/site-packages (from matplotlib) (1.4.7)\n",
      "Requirement already satisfied: numpy>=1.23 in /Users/vagif/Desktop/Work docs/Gross Profit Calculator/.venv/lib/python3.12/site-packages (from matplotlib) (2.1.1)\n",
      "Requirement already satisfied: packaging>=20.0 in /Users/vagif/Desktop/Work docs/Gross Profit Calculator/.venv/lib/python3.12/site-packages (from matplotlib) (24.1)\n",
      "Requirement already satisfied: pillow>=8 in /Users/vagif/Desktop/Work docs/Gross Profit Calculator/.venv/lib/python3.12/site-packages (from matplotlib) (10.4.0)\n",
      "Requirement already satisfied: pyparsing>=2.3.1 in /Users/vagif/Desktop/Work docs/Gross Profit Calculator/.venv/lib/python3.12/site-packages (from matplotlib) (3.1.4)\n",
      "Requirement already satisfied: python-dateutil>=2.7 in /Users/vagif/Desktop/Work docs/Gross Profit Calculator/.venv/lib/python3.12/site-packages (from matplotlib) (2.9.0.post0)\n",
      "Requirement already satisfied: six>=1.5 in /Users/vagif/Desktop/Work docs/Gross Profit Calculator/.venv/lib/python3.12/site-packages (from python-dateutil>=2.7->matplotlib) (1.16.0)\n",
      "Note: you may need to restart the kernel to use updated packages.\n"
     ]
    }
   ],
   "source": [
    "pip install matplotlib"
   ]
  },
  {
   "cell_type": "code",
   "execution_count": 135,
   "id": "311cfe74",
   "metadata": {},
   "outputs": [
    {
     "name": "stdout",
     "output_type": "stream",
     "text": [
      "Requirement already satisfied: seaborn in /Users/vagif/Desktop/Work docs/Gross Profit Calculator/.venv/lib/python3.12/site-packages (0.13.2)\n",
      "Requirement already satisfied: numpy!=1.24.0,>=1.20 in /Users/vagif/Desktop/Work docs/Gross Profit Calculator/.venv/lib/python3.12/site-packages (from seaborn) (2.1.1)\n",
      "Requirement already satisfied: pandas>=1.2 in /Users/vagif/Desktop/Work docs/Gross Profit Calculator/.venv/lib/python3.12/site-packages (from seaborn) (2.2.2)\n",
      "Requirement already satisfied: matplotlib!=3.6.1,>=3.4 in /Users/vagif/Desktop/Work docs/Gross Profit Calculator/.venv/lib/python3.12/site-packages (from seaborn) (3.9.2)\n",
      "Requirement already satisfied: contourpy>=1.0.1 in /Users/vagif/Desktop/Work docs/Gross Profit Calculator/.venv/lib/python3.12/site-packages (from matplotlib!=3.6.1,>=3.4->seaborn) (1.3.0)\n",
      "Requirement already satisfied: cycler>=0.10 in /Users/vagif/Desktop/Work docs/Gross Profit Calculator/.venv/lib/python3.12/site-packages (from matplotlib!=3.6.1,>=3.4->seaborn) (0.12.1)\n",
      "Requirement already satisfied: fonttools>=4.22.0 in /Users/vagif/Desktop/Work docs/Gross Profit Calculator/.venv/lib/python3.12/site-packages (from matplotlib!=3.6.1,>=3.4->seaborn) (4.53.1)\n",
      "Requirement already satisfied: kiwisolver>=1.3.1 in /Users/vagif/Desktop/Work docs/Gross Profit Calculator/.venv/lib/python3.12/site-packages (from matplotlib!=3.6.1,>=3.4->seaborn) (1.4.7)\n",
      "Requirement already satisfied: packaging>=20.0 in /Users/vagif/Desktop/Work docs/Gross Profit Calculator/.venv/lib/python3.12/site-packages (from matplotlib!=3.6.1,>=3.4->seaborn) (24.1)\n",
      "Requirement already satisfied: pillow>=8 in /Users/vagif/Desktop/Work docs/Gross Profit Calculator/.venv/lib/python3.12/site-packages (from matplotlib!=3.6.1,>=3.4->seaborn) (10.4.0)\n",
      "Requirement already satisfied: pyparsing>=2.3.1 in /Users/vagif/Desktop/Work docs/Gross Profit Calculator/.venv/lib/python3.12/site-packages (from matplotlib!=3.6.1,>=3.4->seaborn) (3.1.4)\n",
      "Requirement already satisfied: python-dateutil>=2.7 in /Users/vagif/Desktop/Work docs/Gross Profit Calculator/.venv/lib/python3.12/site-packages (from matplotlib!=3.6.1,>=3.4->seaborn) (2.9.0.post0)\n",
      "Requirement already satisfied: pytz>=2020.1 in /Users/vagif/Desktop/Work docs/Gross Profit Calculator/.venv/lib/python3.12/site-packages (from pandas>=1.2->seaborn) (2024.1)\n",
      "Requirement already satisfied: tzdata>=2022.7 in /Users/vagif/Desktop/Work docs/Gross Profit Calculator/.venv/lib/python3.12/site-packages (from pandas>=1.2->seaborn) (2024.1)\n",
      "Requirement already satisfied: six>=1.5 in /Users/vagif/Desktop/Work docs/Gross Profit Calculator/.venv/lib/python3.12/site-packages (from python-dateutil>=2.7->matplotlib!=3.6.1,>=3.4->seaborn) (1.16.0)\n",
      "Note: you may need to restart the kernel to use updated packages.\n"
     ]
    }
   ],
   "source": [
    "pip install seaborn"
   ]
  },
  {
   "cell_type": "markdown",
   "id": "748cbec7-bbb2-4ed7-a715-38b048b2022b",
   "metadata": {},
   "source": [
    "## STEP 1\n",
    "\n",
    "Enter time frame"
   ]
  },
  {
   "cell_type": "code",
   "execution_count": 136,
   "id": "b49759ad",
   "metadata": {},
   "outputs": [],
   "source": [
    "Days=90\n",
    "Vendor=\"ECM\""
   ]
  },
  {
   "cell_type": "code",
   "execution_count": 137,
   "id": "7276df63",
   "metadata": {},
   "outputs": [],
   "source": [
    "def info(data):\n",
    "    print(\"Shape:\",data.shape)\n",
    "    print(\"Size:\",data.size)\n",
    "    print(\"\\n\")\n",
    "    print(\"Null Values\", data.isnull().sum())\n",
    "    print(\"\\n\")\n",
    "    "
   ]
  },
  {
   "cell_type": "code",
   "execution_count": 138,
   "id": "e771a9e6-c002-43cf-a2a1-3213667876fb",
   "metadata": {},
   "outputs": [],
   "source": [
    "import pandas as pd\n",
    "import numpy as np\n",
    "import matplotlib.pyplot as plt\n",
    "pd.set_option('display.max_columns', None)\n",
    "from datetime import datetime, timedelta  # noqa: E402\n",
    "import seaborn as sn\n",
    "import datetime, time"
   ]
  },
  {
   "cell_type": "code",
   "execution_count": 139,
   "id": "d7c08978-27aa-473a-a382-ba6277241339",
   "metadata": {},
   "outputs": [],
   "source": [
    "df=pd.read_csv(\"/Users/vagif/Desktop/Work docs/Gross Profit Calculator/scr/orders_export_1 5.csv\", low_memory=False)"
   ]
  },
  {
   "cell_type": "code",
   "execution_count": 140,
   "id": "4f6f7bea-2042-4368-ad5e-79b7b0b84c5d",
   "metadata": {},
   "outputs": [
    {
     "data": {
      "text/plain": [
       "Financial Status\n",
       "paid                  6787\n",
       "voided                 430\n",
       "partially_refunded     248\n",
       "refunded               226\n",
       "authorized              30\n",
       "pending                  5\n",
       "Name: count, dtype: int64"
      ]
     },
     "execution_count": 140,
     "metadata": {},
     "output_type": "execute_result"
    }
   ],
   "source": [
    "df['Financial Status'].value_counts()"
   ]
  },
  {
   "cell_type": "code",
   "execution_count": 141,
   "id": "7bdf38bb-4082-4c39-a8d5-2d389f389e01",
   "metadata": {},
   "outputs": [],
   "source": [
    "# df=df[df[\"Risk Level\"]!=\"High\"]"
   ]
  },
  {
   "cell_type": "markdown",
   "id": "56a0515a-b28b-4a0b-a09e-e596354b6e1c",
   "metadata": {},
   "source": [
    "There are some duplicated data of order numbers which needs cleaning. Some of them contain important information, so we have to keep them for further use"
   ]
  },
  {
   "cell_type": "markdown",
   "id": "cc43d7c2-a930-4fbb-864f-43111f70c92c",
   "metadata": {},
   "source": [
    "Drop unnecessary columns"
   ]
  },
  {
   "cell_type": "code",
   "execution_count": 142,
   "id": "75f95dd7-c500-4ac8-840c-3b0010d0a45f",
   "metadata": {},
   "outputs": [
    {
     "data": {
      "text/plain": [
       "(10565, 25)"
      ]
     },
     "execution_count": 142,
     "metadata": {},
     "output_type": "execute_result"
    }
   ],
   "source": [
    "df=df[['Name','Paid at','Currency', 'Financial Status', 'Subtotal', 'Shipping',\n",
    "       'Taxes', 'Total', 'Discount Code', 'Discount Amount','Created at', 'Lineitem quantity', 'Lineitem name', \n",
    "       'Lineitem price', 'Refunded Amount', 'Shipping Province',\n",
    "       'Shipping Country','Billing Province','Billing Country','Payment Method', 'Vendor', 'Outstanding Balance', 'Risk Level', 'Source',\n",
    "       'Lineitem discount']]\n",
    "df.shape"
   ]
  },
  {
   "cell_type": "code",
   "execution_count": 143,
   "id": "c2a7c59f-2cb4-40f1-b3fc-cd759c01f280",
   "metadata": {
    "scrolled": true
   },
   "outputs": [
    {
     "data": {
      "text/plain": [
       "(2828, 25)"
      ]
     },
     "execution_count": 143,
     "metadata": {},
     "output_type": "execute_result"
    }
   ],
   "source": [
    "df['Created at'] = pd.to_datetime(df['Created at'], format='ISO8601', utc=True)\n",
    "end_date = datetime.date.today()\n",
    "start_date = end_date - datetime.timedelta(days=Days)\n",
    "start_date = pd.to_datetime(start_date, utc=True, format='ISO8601')  # Convert start_date to a Series (if needed)\n",
    "end_date = pd.to_datetime(end_date, utc=True, format='ISO8601')    # Convert end_date to a Series (if needed)\n",
    "df_90days = df[(df['Created at'] >= start_date) & (df['Created at'] <= end_date)]\n",
    "df_90days.shape"
   ]
  },
  {
   "cell_type": "markdown",
   "id": "d332214d-8fd4-45e3-95c9-227f78c08ebf",
   "metadata": {},
   "source": [
    "Enter Vendor Name"
   ]
  },
  {
   "cell_type": "code",
   "execution_count": 144,
   "id": "2b2f07a8-4186-4ce2-97eb-062366fc9aee",
   "metadata": {},
   "outputs": [],
   "source": [
    "Vendor_Data=df_90days[['Name','Paid at', 'Subtotal', 'Shipping',\n",
    "       'Taxes', 'Total', 'Discount Code','Discount Amount','Created at','Lineitem quantity', 'Lineitem name', \n",
    "       'Lineitem price', 'Refunded Amount', 'Shipping Province',\n",
    "       'Shipping Country','Billing Province','Billing Country', 'Vendor', 'Outstanding Balance','Lineitem discount']][df_90days[\"Vendor\"]==Vendor]"
   ]
  },
  {
   "cell_type": "code",
   "execution_count": 145,
   "id": "39f4bf38-ac0d-4a81-8cbb-f248f4143ce0",
   "metadata": {},
   "outputs": [
    {
     "data": {
      "text/plain": [
       "(0, 20)"
      ]
     },
     "execution_count": 145,
     "metadata": {},
     "output_type": "execute_result"
    }
   ],
   "source": [
    "Vendor_Data[Vendor_Data['Name'].duplicated()].shape"
   ]
  },
  {
   "cell_type": "markdown",
   "id": "16a4e957-c548-4fce-a764-c2b109cfa140",
   "metadata": {},
   "source": [
    "Separate duplicated data set from main file"
   ]
  },
  {
   "cell_type": "code",
   "execution_count": 146,
   "id": "6d99a487-e69f-45d6-834a-4825bfd5c8be",
   "metadata": {},
   "outputs": [
    {
     "data": {
      "text/html": [
       "<div>\n",
       "<style scoped>\n",
       "    .dataframe tbody tr th:only-of-type {\n",
       "        vertical-align: middle;\n",
       "    }\n",
       "\n",
       "    .dataframe tbody tr th {\n",
       "        vertical-align: top;\n",
       "    }\n",
       "\n",
       "    .dataframe thead th {\n",
       "        text-align: right;\n",
       "    }\n",
       "</style>\n",
       "<table border=\"1\" class=\"dataframe\">\n",
       "  <thead>\n",
       "    <tr style=\"text-align: right;\">\n",
       "      <th></th>\n",
       "      <th>Name</th>\n",
       "      <th>Paid at</th>\n",
       "      <th>Currency</th>\n",
       "      <th>Financial Status</th>\n",
       "      <th>Subtotal</th>\n",
       "      <th>Shipping</th>\n",
       "      <th>Taxes</th>\n",
       "      <th>Total</th>\n",
       "      <th>Discount Code</th>\n",
       "      <th>Discount Amount</th>\n",
       "      <th>Created at</th>\n",
       "      <th>Lineitem quantity</th>\n",
       "      <th>Lineitem name</th>\n",
       "      <th>Lineitem price</th>\n",
       "      <th>Refunded Amount</th>\n",
       "      <th>Shipping Province</th>\n",
       "      <th>Shipping Country</th>\n",
       "      <th>Billing Province</th>\n",
       "      <th>Billing Country</th>\n",
       "      <th>Payment Method</th>\n",
       "      <th>Vendor</th>\n",
       "      <th>Outstanding Balance</th>\n",
       "      <th>Risk Level</th>\n",
       "      <th>Source</th>\n",
       "      <th>Lineitem discount</th>\n",
       "    </tr>\n",
       "  </thead>\n",
       "  <tbody>\n",
       "    <tr>\n",
       "      <th>0</th>\n",
       "      <td>#8728</td>\n",
       "      <td>NaN</td>\n",
       "      <td>CAD</td>\n",
       "      <td>authorized</td>\n",
       "      <td>3439.74</td>\n",
       "      <td>0.00</td>\n",
       "      <td>171.99</td>\n",
       "      <td>3611.73</td>\n",
       "      <td>NaN</td>\n",
       "      <td>93.41</td>\n",
       "      <td>2024-08-29 03:53:20+00:00</td>\n",
       "      <td>1</td>\n",
       "      <td>Rocket Appartamento TCA Espresso Machine (Open...</td>\n",
       "      <td>2599.00</td>\n",
       "      <td>0.0</td>\n",
       "      <td>QC</td>\n",
       "      <td>CA</td>\n",
       "      <td>QC</td>\n",
       "      <td>CA</td>\n",
       "      <td>Shopify Payments</td>\n",
       "      <td>Rocket Espresso Milano</td>\n",
       "      <td>3611.73</td>\n",
       "      <td>Low</td>\n",
       "      <td>web</td>\n",
       "      <td>0.00</td>\n",
       "    </tr>\n",
       "    <tr>\n",
       "      <th>1</th>\n",
       "      <td>#8728</td>\n",
       "      <td>NaN</td>\n",
       "      <td>NaN</td>\n",
       "      <td>NaN</td>\n",
       "      <td>NaN</td>\n",
       "      <td>NaN</td>\n",
       "      <td>NaN</td>\n",
       "      <td>NaN</td>\n",
       "      <td>NaN</td>\n",
       "      <td>NaN</td>\n",
       "      <td>2024-08-29 03:53:20+00:00</td>\n",
       "      <td>1</td>\n",
       "      <td>Eureka Mignon Libra Grinder with Grind by Weig...</td>\n",
       "      <td>934.15</td>\n",
       "      <td>NaN</td>\n",
       "      <td>NaN</td>\n",
       "      <td>NaN</td>\n",
       "      <td>NaN</td>\n",
       "      <td>NaN</td>\n",
       "      <td>NaN</td>\n",
       "      <td>Eureka</td>\n",
       "      <td>NaN</td>\n",
       "      <td>NaN</td>\n",
       "      <td>NaN</td>\n",
       "      <td>93.41</td>\n",
       "    </tr>\n",
       "    <tr>\n",
       "      <th>5</th>\n",
       "      <td>#8724</td>\n",
       "      <td>NaN</td>\n",
       "      <td>CAD</td>\n",
       "      <td>authorized</td>\n",
       "      <td>41.97</td>\n",
       "      <td>8.99</td>\n",
       "      <td>2.55</td>\n",
       "      <td>53.51</td>\n",
       "      <td>NaN</td>\n",
       "      <td>0.00</td>\n",
       "      <td>2024-08-28 22:30:26+00:00</td>\n",
       "      <td>1</td>\n",
       "      <td>Torani Pumpkin Spice Syrup (750ml)</td>\n",
       "      <td>13.99</td>\n",
       "      <td>0.0</td>\n",
       "      <td>AB</td>\n",
       "      <td>CA</td>\n",
       "      <td>AB</td>\n",
       "      <td>CA</td>\n",
       "      <td>Shopify Payments</td>\n",
       "      <td>Torani</td>\n",
       "      <td>53.51</td>\n",
       "      <td>Low</td>\n",
       "      <td>web</td>\n",
       "      <td>0.00</td>\n",
       "    </tr>\n",
       "    <tr>\n",
       "      <th>6</th>\n",
       "      <td>#8724</td>\n",
       "      <td>NaN</td>\n",
       "      <td>NaN</td>\n",
       "      <td>NaN</td>\n",
       "      <td>NaN</td>\n",
       "      <td>NaN</td>\n",
       "      <td>NaN</td>\n",
       "      <td>NaN</td>\n",
       "      <td>NaN</td>\n",
       "      <td>NaN</td>\n",
       "      <td>2024-08-28 22:30:26+00:00</td>\n",
       "      <td>1</td>\n",
       "      <td>Torani Salted Caramel Syrup (750ml)</td>\n",
       "      <td>13.99</td>\n",
       "      <td>NaN</td>\n",
       "      <td>NaN</td>\n",
       "      <td>NaN</td>\n",
       "      <td>NaN</td>\n",
       "      <td>NaN</td>\n",
       "      <td>NaN</td>\n",
       "      <td>Torani</td>\n",
       "      <td>NaN</td>\n",
       "      <td>NaN</td>\n",
       "      <td>NaN</td>\n",
       "      <td>0.00</td>\n",
       "    </tr>\n",
       "    <tr>\n",
       "      <th>7</th>\n",
       "      <td>#8724</td>\n",
       "      <td>NaN</td>\n",
       "      <td>NaN</td>\n",
       "      <td>NaN</td>\n",
       "      <td>NaN</td>\n",
       "      <td>NaN</td>\n",
       "      <td>NaN</td>\n",
       "      <td>NaN</td>\n",
       "      <td>NaN</td>\n",
       "      <td>NaN</td>\n",
       "      <td>2024-08-28 22:30:26+00:00</td>\n",
       "      <td>1</td>\n",
       "      <td>Torani Apple Syrup (750ml)</td>\n",
       "      <td>13.99</td>\n",
       "      <td>NaN</td>\n",
       "      <td>NaN</td>\n",
       "      <td>NaN</td>\n",
       "      <td>NaN</td>\n",
       "      <td>NaN</td>\n",
       "      <td>NaN</td>\n",
       "      <td>Torani</td>\n",
       "      <td>NaN</td>\n",
       "      <td>NaN</td>\n",
       "      <td>NaN</td>\n",
       "      <td>0.00</td>\n",
       "    </tr>\n",
       "  </tbody>\n",
       "</table>\n",
       "</div>"
      ],
      "text/plain": [
       "    Name Paid at Currency Financial Status  Subtotal  Shipping   Taxes  \\\n",
       "0  #8728     NaN      CAD       authorized   3439.74      0.00  171.99   \n",
       "1  #8728     NaN      NaN              NaN       NaN       NaN     NaN   \n",
       "5  #8724     NaN      CAD       authorized     41.97      8.99    2.55   \n",
       "6  #8724     NaN      NaN              NaN       NaN       NaN     NaN   \n",
       "7  #8724     NaN      NaN              NaN       NaN       NaN     NaN   \n",
       "\n",
       "     Total Discount Code  Discount Amount                Created at  \\\n",
       "0  3611.73           NaN            93.41 2024-08-29 03:53:20+00:00   \n",
       "1      NaN           NaN              NaN 2024-08-29 03:53:20+00:00   \n",
       "5    53.51           NaN             0.00 2024-08-28 22:30:26+00:00   \n",
       "6      NaN           NaN              NaN 2024-08-28 22:30:26+00:00   \n",
       "7      NaN           NaN              NaN 2024-08-28 22:30:26+00:00   \n",
       "\n",
       "   Lineitem quantity                                      Lineitem name  \\\n",
       "0                  1  Rocket Appartamento TCA Espresso Machine (Open...   \n",
       "1                  1  Eureka Mignon Libra Grinder with Grind by Weig...   \n",
       "5                  1                 Torani Pumpkin Spice Syrup (750ml)   \n",
       "6                  1                Torani Salted Caramel Syrup (750ml)   \n",
       "7                  1                         Torani Apple Syrup (750ml)   \n",
       "\n",
       "   Lineitem price  Refunded Amount Shipping Province Shipping Country  \\\n",
       "0         2599.00              0.0                QC               CA   \n",
       "1          934.15              NaN               NaN              NaN   \n",
       "5           13.99              0.0                AB               CA   \n",
       "6           13.99              NaN               NaN              NaN   \n",
       "7           13.99              NaN               NaN              NaN   \n",
       "\n",
       "  Billing Province Billing Country    Payment Method                  Vendor  \\\n",
       "0               QC              CA  Shopify Payments  Rocket Espresso Milano   \n",
       "1              NaN             NaN               NaN                  Eureka   \n",
       "5               AB              CA  Shopify Payments                  Torani   \n",
       "6              NaN             NaN               NaN                  Torani   \n",
       "7              NaN             NaN               NaN                  Torani   \n",
       "\n",
       "   Outstanding Balance Risk Level Source  Lineitem discount  \n",
       "0              3611.73        Low    web               0.00  \n",
       "1                  NaN        NaN    NaN              93.41  \n",
       "5                53.51        Low    web               0.00  \n",
       "6                  NaN        NaN    NaN               0.00  \n",
       "7                  NaN        NaN    NaN               0.00  "
      ]
     },
     "execution_count": 146,
     "metadata": {},
     "output_type": "execute_result"
    }
   ],
   "source": [
    "dup_data=df_90days[df_90days['Name'].duplicated(keep=False)]\n",
    "dup_data.head()"
   ]
  },
  {
   "cell_type": "markdown",
   "id": "85e09050-23d3-4629-8581-83b56ed4114a",
   "metadata": {},
   "source": [
    "Code block below finds duplicated orders among profitec orders and collect them under dataframe \"duplicated_data\""
   ]
  },
  {
   "cell_type": "code",
   "execution_count": 147,
   "id": "943ee719-3705-42ac-9c43-5742866dd135",
   "metadata": {},
   "outputs": [],
   "source": [
    "duplicated_data = pd.DataFrame()\n",
    "order_num=list(Vendor_Data[\"Name\"].unique())\n",
    "for i in order_num:\n",
    "    record=dup_data[dup_data[\"Name\"]==i].dropna(subset=\"Total\")\n",
    "    duplicated_data = pd.concat([duplicated_data, record])"
   ]
  },
  {
   "cell_type": "code",
   "execution_count": 148,
   "id": "7340ad7b-c6b7-429b-bb7b-461d39f2f66d",
   "metadata": {},
   "outputs": [
    {
     "name": "stdout",
     "output_type": "stream",
     "text": [
      "Shape: (3, 25)\n",
      "Size: 75\n",
      "\n",
      "\n",
      "Null Values Name                   0\n",
      "Paid at                0\n",
      "Currency               0\n",
      "Financial Status       0\n",
      "Subtotal               0\n",
      "Shipping               0\n",
      "Taxes                  0\n",
      "Total                  0\n",
      "Discount Code          0\n",
      "Discount Amount        0\n",
      "Created at             0\n",
      "Lineitem quantity      0\n",
      "Lineitem name          0\n",
      "Lineitem price         0\n",
      "Refunded Amount        0\n",
      "Shipping Province      2\n",
      "Shipping Country       2\n",
      "Billing Province       1\n",
      "Billing Country        1\n",
      "Payment Method         0\n",
      "Vendor                 0\n",
      "Outstanding Balance    0\n",
      "Risk Level             0\n",
      "Source                 0\n",
      "Lineitem discount      0\n",
      "dtype: int64\n",
      "\n",
      "\n"
     ]
    }
   ],
   "source": [
    "info(duplicated_data)"
   ]
  },
  {
   "cell_type": "code",
   "execution_count": 149,
   "id": "a627496d-6d9b-41d1-a769-daecfa401463",
   "metadata": {},
   "outputs": [],
   "source": [
    "duplicated_data=duplicated_data[['Name','Paid at', 'Subtotal', 'Shipping',\n",
    "       'Taxes', 'Total','Discount Code', 'Discount Amount','Created at','Lineitem quantity', 'Lineitem name', \n",
    "       'Lineitem price', 'Refunded Amount', 'Shipping Province',\n",
    "       'Shipping Country','Billing Province','Billing Country', 'Vendor', 'Outstanding Balance','Lineitem discount']]"
   ]
  },
  {
   "cell_type": "code",
   "execution_count": 150,
   "id": "1527a1ed-01a2-4c6a-af5f-f41cc27a1127",
   "metadata": {},
   "outputs": [
    {
     "data": {
      "text/plain": [
       "((3, 20), (4, 20))"
      ]
     },
     "execution_count": 150,
     "metadata": {},
     "output_type": "execute_result"
    }
   ],
   "source": [
    "duplicated_data.shape, Vendor_Data.shape"
   ]
  },
  {
   "cell_type": "markdown",
   "id": "638a9078-7323-44f1-a1df-d6a8613ce4e6",
   "metadata": {},
   "source": [
    "Merge duplicated data and profitec file to get final Merged_Profitec"
   ]
  },
  {
   "cell_type": "code",
   "execution_count": 151,
   "id": "ccb32372-b740-467f-a5e9-739d6f5de890",
   "metadata": {
    "scrolled": true
   },
   "outputs": [
    {
     "data": {
      "text/html": [
       "<div>\n",
       "<style scoped>\n",
       "    .dataframe tbody tr th:only-of-type {\n",
       "        vertical-align: middle;\n",
       "    }\n",
       "\n",
       "    .dataframe tbody tr th {\n",
       "        vertical-align: top;\n",
       "    }\n",
       "\n",
       "    .dataframe thead th {\n",
       "        text-align: right;\n",
       "    }\n",
       "</style>\n",
       "<table border=\"1\" class=\"dataframe\">\n",
       "  <thead>\n",
       "    <tr style=\"text-align: right;\">\n",
       "      <th></th>\n",
       "      <th>Name</th>\n",
       "      <th>Paid at_x</th>\n",
       "      <th>Subtotal_x</th>\n",
       "      <th>Shipping_x</th>\n",
       "      <th>Taxes_x</th>\n",
       "      <th>Total_x</th>\n",
       "      <th>Discount Code_x</th>\n",
       "      <th>Discount Amount_x</th>\n",
       "      <th>Created at_x</th>\n",
       "      <th>Lineitem quantity_x</th>\n",
       "      <th>Lineitem name_x</th>\n",
       "      <th>Lineitem price_x</th>\n",
       "      <th>Refunded Amount_x</th>\n",
       "      <th>Shipping Province_x</th>\n",
       "      <th>Shipping Country_x</th>\n",
       "      <th>Billing Province_x</th>\n",
       "      <th>Billing Country_x</th>\n",
       "      <th>Vendor_x</th>\n",
       "      <th>Outstanding Balance_x</th>\n",
       "      <th>Lineitem discount_x</th>\n",
       "      <th>Paid at_y</th>\n",
       "      <th>Subtotal_y</th>\n",
       "      <th>Shipping_y</th>\n",
       "      <th>Taxes_y</th>\n",
       "      <th>Total_y</th>\n",
       "      <th>Discount Code_y</th>\n",
       "      <th>Discount Amount_y</th>\n",
       "      <th>Created at_y</th>\n",
       "      <th>Lineitem quantity_y</th>\n",
       "      <th>Lineitem name_y</th>\n",
       "      <th>Lineitem price_y</th>\n",
       "      <th>Refunded Amount_y</th>\n",
       "      <th>Shipping Province_y</th>\n",
       "      <th>Shipping Country_y</th>\n",
       "      <th>Billing Province_y</th>\n",
       "      <th>Billing Country_y</th>\n",
       "      <th>Vendor_y</th>\n",
       "      <th>Outstanding Balance_y</th>\n",
       "      <th>Lineitem discount_y</th>\n",
       "    </tr>\n",
       "  </thead>\n",
       "  <tbody>\n",
       "    <tr>\n",
       "      <th>0</th>\n",
       "      <td>#8287</td>\n",
       "      <td>2024-08-14 15:07:40 -0400</td>\n",
       "      <td>175.5</td>\n",
       "      <td>0.0</td>\n",
       "      <td>8.78</td>\n",
       "      <td>184.28</td>\n",
       "      <td>Custom discount</td>\n",
       "      <td>19.50</td>\n",
       "      <td>2024-08-12 16:15:06+00:00</td>\n",
       "      <td>1</td>\n",
       "      <td>ECM Knock Box M (Drawer)</td>\n",
       "      <td>195.00</td>\n",
       "      <td>0.0</td>\n",
       "      <td>MB</td>\n",
       "      <td>CA</td>\n",
       "      <td>MB</td>\n",
       "      <td>CA</td>\n",
       "      <td>ECM</td>\n",
       "      <td>0.0</td>\n",
       "      <td>0.0</td>\n",
       "      <td>NaN</td>\n",
       "      <td>NaN</td>\n",
       "      <td>NaN</td>\n",
       "      <td>NaN</td>\n",
       "      <td>NaN</td>\n",
       "      <td>NaN</td>\n",
       "      <td>NaN</td>\n",
       "      <td>NaT</td>\n",
       "      <td>NaN</td>\n",
       "      <td>NaN</td>\n",
       "      <td>NaN</td>\n",
       "      <td>NaN</td>\n",
       "      <td>NaN</td>\n",
       "      <td>NaN</td>\n",
       "      <td>NaN</td>\n",
       "      <td>NaN</td>\n",
       "      <td>NaN</td>\n",
       "      <td>NaN</td>\n",
       "      <td>NaN</td>\n",
       "    </tr>\n",
       "    <tr>\n",
       "      <th>1</th>\n",
       "      <td>#7919</td>\n",
       "      <td>NaN</td>\n",
       "      <td>NaN</td>\n",
       "      <td>NaN</td>\n",
       "      <td>NaN</td>\n",
       "      <td>NaN</td>\n",
       "      <td>NaN</td>\n",
       "      <td>NaN</td>\n",
       "      <td>2024-07-29 21:26:53+00:00</td>\n",
       "      <td>1</td>\n",
       "      <td>ECM Knock Box M (Drawer)</td>\n",
       "      <td>195.00</td>\n",
       "      <td>NaN</td>\n",
       "      <td>NaN</td>\n",
       "      <td>NaN</td>\n",
       "      <td>NaN</td>\n",
       "      <td>NaN</td>\n",
       "      <td>ECM</td>\n",
       "      <td>NaN</td>\n",
       "      <td>0.0</td>\n",
       "      <td>2024-08-02 15:39:26 -0400</td>\n",
       "      <td>1065.6</td>\n",
       "      <td>0.0</td>\n",
       "      <td>53.29</td>\n",
       "      <td>1118.89</td>\n",
       "      <td>TKBSIGNUP-JDHSBJ7W</td>\n",
       "      <td>118.40</td>\n",
       "      <td>2024-07-29 21:26:53+00:00</td>\n",
       "      <td>1.0</td>\n",
       "      <td>Eureka Mignon Libra Grinder with Grind by Weig...</td>\n",
       "      <td>989.00</td>\n",
       "      <td>0.0</td>\n",
       "      <td>MB</td>\n",
       "      <td>CA</td>\n",
       "      <td>MB</td>\n",
       "      <td>CA</td>\n",
       "      <td>Eureka</td>\n",
       "      <td>0.0</td>\n",
       "      <td>0.0</td>\n",
       "    </tr>\n",
       "    <tr>\n",
       "      <th>2</th>\n",
       "      <td>#7798</td>\n",
       "      <td>NaN</td>\n",
       "      <td>NaN</td>\n",
       "      <td>NaN</td>\n",
       "      <td>NaN</td>\n",
       "      <td>NaN</td>\n",
       "      <td>NaN</td>\n",
       "      <td>NaN</td>\n",
       "      <td>2024-07-25 00:48:21+00:00</td>\n",
       "      <td>1</td>\n",
       "      <td>ECM Knock Box (Drawer)</td>\n",
       "      <td>199.00</td>\n",
       "      <td>NaN</td>\n",
       "      <td>NaN</td>\n",
       "      <td>NaN</td>\n",
       "      <td>NaN</td>\n",
       "      <td>NaN</td>\n",
       "      <td>ECM</td>\n",
       "      <td>NaN</td>\n",
       "      <td>0.0</td>\n",
       "      <td>2024-07-30 20:48:32 -0400</td>\n",
       "      <td>2573.2</td>\n",
       "      <td>0.0</td>\n",
       "      <td>334.51</td>\n",
       "      <td>2907.71</td>\n",
       "      <td>TKBSIGNUP-55S7LWW2</td>\n",
       "      <td>224.80</td>\n",
       "      <td>2024-07-25 00:48:21+00:00</td>\n",
       "      <td>1.0</td>\n",
       "      <td>Ascaso Steel Duo V2 PID Dual Boiler Espresso M...</td>\n",
       "      <td>2049.00</td>\n",
       "      <td>0.0</td>\n",
       "      <td>NaN</td>\n",
       "      <td>NaN</td>\n",
       "      <td>ON</td>\n",
       "      <td>CA</td>\n",
       "      <td>Ascaso</td>\n",
       "      <td>0.0</td>\n",
       "      <td>0.0</td>\n",
       "    </tr>\n",
       "    <tr>\n",
       "      <th>3</th>\n",
       "      <td>#7459</td>\n",
       "      <td>2024-07-10 14:49:26 -0400</td>\n",
       "      <td>4000.0</td>\n",
       "      <td>0.0</td>\n",
       "      <td>520.00</td>\n",
       "      <td>4520.00</td>\n",
       "      <td>David discount</td>\n",
       "      <td>675.99</td>\n",
       "      <td>2024-07-10 18:48:54+00:00</td>\n",
       "      <td>1</td>\n",
       "      <td>ECM Synchronika PID with Flow Control Semi-Aut...</td>\n",
       "      <td>4675.99</td>\n",
       "      <td>0.0</td>\n",
       "      <td>NaN</td>\n",
       "      <td>NaN</td>\n",
       "      <td>NaN</td>\n",
       "      <td>NaN</td>\n",
       "      <td>ECM</td>\n",
       "      <td>0.0</td>\n",
       "      <td>0.0</td>\n",
       "      <td>2024-07-10 14:49:26 -0400</td>\n",
       "      <td>4000.0</td>\n",
       "      <td>0.0</td>\n",
       "      <td>520.00</td>\n",
       "      <td>4520.00</td>\n",
       "      <td>David discount</td>\n",
       "      <td>675.99</td>\n",
       "      <td>2024-07-10 18:48:54+00:00</td>\n",
       "      <td>1.0</td>\n",
       "      <td>ECM Synchronika PID with Flow Control Semi-Aut...</td>\n",
       "      <td>4675.99</td>\n",
       "      <td>0.0</td>\n",
       "      <td>NaN</td>\n",
       "      <td>NaN</td>\n",
       "      <td>NaN</td>\n",
       "      <td>NaN</td>\n",
       "      <td>ECM</td>\n",
       "      <td>0.0</td>\n",
       "      <td>0.0</td>\n",
       "    </tr>\n",
       "  </tbody>\n",
       "</table>\n",
       "</div>"
      ],
      "text/plain": [
       "    Name                  Paid at_x  Subtotal_x  Shipping_x  Taxes_x  Total_x  \\\n",
       "0  #8287  2024-08-14 15:07:40 -0400       175.5         0.0     8.78   184.28   \n",
       "1  #7919                        NaN         NaN         NaN      NaN      NaN   \n",
       "2  #7798                        NaN         NaN         NaN      NaN      NaN   \n",
       "3  #7459  2024-07-10 14:49:26 -0400      4000.0         0.0   520.00  4520.00   \n",
       "\n",
       "   Discount Code_x  Discount Amount_x              Created at_x  \\\n",
       "0  Custom discount              19.50 2024-08-12 16:15:06+00:00   \n",
       "1              NaN                NaN 2024-07-29 21:26:53+00:00   \n",
       "2              NaN                NaN 2024-07-25 00:48:21+00:00   \n",
       "3  David discount              675.99 2024-07-10 18:48:54+00:00   \n",
       "\n",
       "   Lineitem quantity_x                                    Lineitem name_x  \\\n",
       "0                    1                           ECM Knock Box M (Drawer)   \n",
       "1                    1                           ECM Knock Box M (Drawer)   \n",
       "2                    1                             ECM Knock Box (Drawer)   \n",
       "3                    1  ECM Synchronika PID with Flow Control Semi-Aut...   \n",
       "\n",
       "   Lineitem price_x  Refunded Amount_x Shipping Province_x Shipping Country_x  \\\n",
       "0            195.00                0.0                  MB                 CA   \n",
       "1            195.00                NaN                 NaN                NaN   \n",
       "2            199.00                NaN                 NaN                NaN   \n",
       "3           4675.99                0.0                 NaN                NaN   \n",
       "\n",
       "  Billing Province_x Billing Country_x Vendor_x  Outstanding Balance_x  \\\n",
       "0                 MB                CA      ECM                    0.0   \n",
       "1                NaN               NaN      ECM                    NaN   \n",
       "2                NaN               NaN      ECM                    NaN   \n",
       "3                NaN               NaN      ECM                    0.0   \n",
       "\n",
       "   Lineitem discount_x                  Paid at_y  Subtotal_y  Shipping_y  \\\n",
       "0                  0.0                        NaN         NaN         NaN   \n",
       "1                  0.0  2024-08-02 15:39:26 -0400      1065.6         0.0   \n",
       "2                  0.0  2024-07-30 20:48:32 -0400      2573.2         0.0   \n",
       "3                  0.0  2024-07-10 14:49:26 -0400      4000.0         0.0   \n",
       "\n",
       "   Taxes_y  Total_y     Discount Code_y  Discount Amount_y  \\\n",
       "0      NaN      NaN                 NaN                NaN   \n",
       "1    53.29  1118.89  TKBSIGNUP-JDHSBJ7W             118.40   \n",
       "2   334.51  2907.71  TKBSIGNUP-55S7LWW2             224.80   \n",
       "3   520.00  4520.00     David discount              675.99   \n",
       "\n",
       "               Created at_y  Lineitem quantity_y  \\\n",
       "0                       NaT                  NaN   \n",
       "1 2024-07-29 21:26:53+00:00                  1.0   \n",
       "2 2024-07-25 00:48:21+00:00                  1.0   \n",
       "3 2024-07-10 18:48:54+00:00                  1.0   \n",
       "\n",
       "                                     Lineitem name_y  Lineitem price_y  \\\n",
       "0                                                NaN               NaN   \n",
       "1  Eureka Mignon Libra Grinder with Grind by Weig...            989.00   \n",
       "2  Ascaso Steel Duo V2 PID Dual Boiler Espresso M...           2049.00   \n",
       "3  ECM Synchronika PID with Flow Control Semi-Aut...           4675.99   \n",
       "\n",
       "   Refunded Amount_y Shipping Province_y Shipping Country_y  \\\n",
       "0                NaN                 NaN                NaN   \n",
       "1                0.0                  MB                 CA   \n",
       "2                0.0                 NaN                NaN   \n",
       "3                0.0                 NaN                NaN   \n",
       "\n",
       "  Billing Province_y Billing Country_y Vendor_y  Outstanding Balance_y  \\\n",
       "0                NaN               NaN      NaN                    NaN   \n",
       "1                 MB                CA   Eureka                    0.0   \n",
       "2                 ON                CA   Ascaso                    0.0   \n",
       "3                NaN               NaN      ECM                    0.0   \n",
       "\n",
       "   Lineitem discount_y  \n",
       "0                  NaN  \n",
       "1                  0.0  \n",
       "2                  0.0  \n",
       "3                  0.0  "
      ]
     },
     "execution_count": 151,
     "metadata": {},
     "output_type": "execute_result"
    }
   ],
   "source": [
    "Merged=pd.merge(Vendor_Data,duplicated_data, on=\"Name\", how='left')\n",
    "Merged"
   ]
  },
  {
   "cell_type": "code",
   "execution_count": 152,
   "id": "7eebf89e-51b7-43df-bc8a-2c27b866dcb1",
   "metadata": {},
   "outputs": [
    {
     "data": {
      "text/html": [
       "<div>\n",
       "<style scoped>\n",
       "    .dataframe tbody tr th:only-of-type {\n",
       "        vertical-align: middle;\n",
       "    }\n",
       "\n",
       "    .dataframe tbody tr th {\n",
       "        vertical-align: top;\n",
       "    }\n",
       "\n",
       "    .dataframe thead th {\n",
       "        text-align: right;\n",
       "    }\n",
       "</style>\n",
       "<table border=\"1\" class=\"dataframe\">\n",
       "  <thead>\n",
       "    <tr style=\"text-align: right;\">\n",
       "      <th></th>\n",
       "      <th>Name</th>\n",
       "      <th>Paid at_x</th>\n",
       "      <th>Subtotal_x</th>\n",
       "      <th>Shipping_x</th>\n",
       "      <th>Taxes_x</th>\n",
       "      <th>Total_x</th>\n",
       "      <th>Discount Code_x</th>\n",
       "      <th>Discount Amount_x</th>\n",
       "      <th>Created at_x</th>\n",
       "      <th>Lineitem quantity_x</th>\n",
       "      <th>Lineitem name_x</th>\n",
       "      <th>Lineitem price_x</th>\n",
       "      <th>Refunded Amount_x</th>\n",
       "      <th>Shipping Province_x</th>\n",
       "      <th>Shipping Country_x</th>\n",
       "      <th>Billing Province_x</th>\n",
       "      <th>Billing Country_x</th>\n",
       "      <th>Vendor_x</th>\n",
       "      <th>Outstanding Balance_x</th>\n",
       "      <th>Lineitem discount_x</th>\n",
       "      <th>Paid at_y</th>\n",
       "      <th>Subtotal_y</th>\n",
       "      <th>Shipping_y</th>\n",
       "      <th>Taxes_y</th>\n",
       "      <th>Total_y</th>\n",
       "      <th>Discount Code_y</th>\n",
       "      <th>Discount Amount_y</th>\n",
       "      <th>Created at_y</th>\n",
       "      <th>Lineitem quantity_y</th>\n",
       "      <th>Lineitem name_y</th>\n",
       "      <th>Lineitem price_y</th>\n",
       "      <th>Refunded Amount_y</th>\n",
       "      <th>Shipping Province_y</th>\n",
       "      <th>Shipping Country_y</th>\n",
       "      <th>Billing Province_y</th>\n",
       "      <th>Billing Country_y</th>\n",
       "      <th>Vendor_y</th>\n",
       "      <th>Outstanding Balance_y</th>\n",
       "      <th>Lineitem discount_y</th>\n",
       "    </tr>\n",
       "  </thead>\n",
       "  <tbody>\n",
       "    <tr>\n",
       "      <th>2</th>\n",
       "      <td>#7798</td>\n",
       "      <td>NaN</td>\n",
       "      <td>NaN</td>\n",
       "      <td>NaN</td>\n",
       "      <td>NaN</td>\n",
       "      <td>NaN</td>\n",
       "      <td>NaN</td>\n",
       "      <td>NaN</td>\n",
       "      <td>2024-07-25 00:48:21+00:00</td>\n",
       "      <td>1</td>\n",
       "      <td>ECM Knock Box (Drawer)</td>\n",
       "      <td>199.00</td>\n",
       "      <td>NaN</td>\n",
       "      <td>NaN</td>\n",
       "      <td>NaN</td>\n",
       "      <td>NaN</td>\n",
       "      <td>NaN</td>\n",
       "      <td>ECM</td>\n",
       "      <td>NaN</td>\n",
       "      <td>0.0</td>\n",
       "      <td>2024-07-30 20:48:32 -0400</td>\n",
       "      <td>2573.2</td>\n",
       "      <td>0.0</td>\n",
       "      <td>334.51</td>\n",
       "      <td>2907.71</td>\n",
       "      <td>TKBSIGNUP-55S7LWW2</td>\n",
       "      <td>224.80</td>\n",
       "      <td>2024-07-25 00:48:21+00:00</td>\n",
       "      <td>1.0</td>\n",
       "      <td>Ascaso Steel Duo V2 PID Dual Boiler Espresso M...</td>\n",
       "      <td>2049.00</td>\n",
       "      <td>0.0</td>\n",
       "      <td>NaN</td>\n",
       "      <td>NaN</td>\n",
       "      <td>ON</td>\n",
       "      <td>CA</td>\n",
       "      <td>Ascaso</td>\n",
       "      <td>0.0</td>\n",
       "      <td>0.0</td>\n",
       "    </tr>\n",
       "    <tr>\n",
       "      <th>3</th>\n",
       "      <td>#7459</td>\n",
       "      <td>2024-07-10 14:49:26 -0400</td>\n",
       "      <td>4000.0</td>\n",
       "      <td>0.0</td>\n",
       "      <td>520.0</td>\n",
       "      <td>4520.0</td>\n",
       "      <td>David discount</td>\n",
       "      <td>675.99</td>\n",
       "      <td>2024-07-10 18:48:54+00:00</td>\n",
       "      <td>1</td>\n",
       "      <td>ECM Synchronika PID with Flow Control Semi-Aut...</td>\n",
       "      <td>4675.99</td>\n",
       "      <td>0.0</td>\n",
       "      <td>NaN</td>\n",
       "      <td>NaN</td>\n",
       "      <td>NaN</td>\n",
       "      <td>NaN</td>\n",
       "      <td>ECM</td>\n",
       "      <td>0.0</td>\n",
       "      <td>0.0</td>\n",
       "      <td>2024-07-10 14:49:26 -0400</td>\n",
       "      <td>4000.0</td>\n",
       "      <td>0.0</td>\n",
       "      <td>520.00</td>\n",
       "      <td>4520.00</td>\n",
       "      <td>David discount</td>\n",
       "      <td>675.99</td>\n",
       "      <td>2024-07-10 18:48:54+00:00</td>\n",
       "      <td>1.0</td>\n",
       "      <td>ECM Synchronika PID with Flow Control Semi-Aut...</td>\n",
       "      <td>4675.99</td>\n",
       "      <td>0.0</td>\n",
       "      <td>NaN</td>\n",
       "      <td>NaN</td>\n",
       "      <td>NaN</td>\n",
       "      <td>NaN</td>\n",
       "      <td>ECM</td>\n",
       "      <td>0.0</td>\n",
       "      <td>0.0</td>\n",
       "    </tr>\n",
       "  </tbody>\n",
       "</table>\n",
       "</div>"
      ],
      "text/plain": [
       "    Name                  Paid at_x  Subtotal_x  Shipping_x  Taxes_x  Total_x  \\\n",
       "2  #7798                        NaN         NaN         NaN      NaN      NaN   \n",
       "3  #7459  2024-07-10 14:49:26 -0400      4000.0         0.0    520.0   4520.0   \n",
       "\n",
       "   Discount Code_x  Discount Amount_x              Created at_x  \\\n",
       "2              NaN                NaN 2024-07-25 00:48:21+00:00   \n",
       "3  David discount              675.99 2024-07-10 18:48:54+00:00   \n",
       "\n",
       "   Lineitem quantity_x                                    Lineitem name_x  \\\n",
       "2                    1                             ECM Knock Box (Drawer)   \n",
       "3                    1  ECM Synchronika PID with Flow Control Semi-Aut...   \n",
       "\n",
       "   Lineitem price_x  Refunded Amount_x Shipping Province_x Shipping Country_x  \\\n",
       "2            199.00                NaN                 NaN                NaN   \n",
       "3           4675.99                0.0                 NaN                NaN   \n",
       "\n",
       "  Billing Province_x Billing Country_x Vendor_x  Outstanding Balance_x  \\\n",
       "2                NaN               NaN      ECM                    NaN   \n",
       "3                NaN               NaN      ECM                    0.0   \n",
       "\n",
       "   Lineitem discount_x                  Paid at_y  Subtotal_y  Shipping_y  \\\n",
       "2                  0.0  2024-07-30 20:48:32 -0400      2573.2         0.0   \n",
       "3                  0.0  2024-07-10 14:49:26 -0400      4000.0         0.0   \n",
       "\n",
       "   Taxes_y  Total_y     Discount Code_y  Discount Amount_y  \\\n",
       "2   334.51  2907.71  TKBSIGNUP-55S7LWW2             224.80   \n",
       "3   520.00  4520.00     David discount              675.99   \n",
       "\n",
       "               Created at_y  Lineitem quantity_y  \\\n",
       "2 2024-07-25 00:48:21+00:00                  1.0   \n",
       "3 2024-07-10 18:48:54+00:00                  1.0   \n",
       "\n",
       "                                     Lineitem name_y  Lineitem price_y  \\\n",
       "2  Ascaso Steel Duo V2 PID Dual Boiler Espresso M...           2049.00   \n",
       "3  ECM Synchronika PID with Flow Control Semi-Aut...           4675.99   \n",
       "\n",
       "   Refunded Amount_y Shipping Province_y Shipping Country_y  \\\n",
       "2                0.0                 NaN                NaN   \n",
       "3                0.0                 NaN                NaN   \n",
       "\n",
       "  Billing Province_y Billing Country_y Vendor_y  Outstanding Balance_y  \\\n",
       "2                 ON                CA   Ascaso                    0.0   \n",
       "3                NaN               NaN      ECM                    0.0   \n",
       "\n",
       "   Lineitem discount_y  \n",
       "2                  0.0  \n",
       "3                  0.0  "
      ]
     },
     "execution_count": 152,
     "metadata": {},
     "output_type": "execute_result"
    }
   ],
   "source": [
    "Merged[(Merged[\"Shipping Country_x\"].isnull())&(Merged[\"Shipping Country_y\"].isnull())]"
   ]
  },
  {
   "cell_type": "markdown",
   "id": "def0d964-564e-48e8-b9c3-bf1e0be57e46",
   "metadata": {},
   "source": [
    "There is no item category, therefore we can't filter orders for espresso machines. Lineitem price column helps to identify espresso machines. Price for espresso machines start from 1000$ CAD. Item's below 120 CAD is either accessory or consumeable. Histogram below shows price distribution. "
   ]
  },
  {
   "cell_type": "code",
   "execution_count": 153,
   "id": "933db680-dabd-4f7d-b83e-bcfbc07a9e65",
   "metadata": {},
   "outputs": [
    {
     "data": {
      "text/plain": [
       "Text(0.5, 1.0, \"Item's Price Distribution between 140-250$ CAD\")"
      ]
     },
     "execution_count": 153,
     "metadata": {},
     "output_type": "execute_result"
    },
    {
     "data": {
      "image/png": "[encoded data removed]",
      "text/plain": [
       "<Figure size 1500x500 with 2 Axes>"
      ]
     },
     "metadata": {},
     "output_type": "display_data"
    }
   ],
   "source": [
    "fig,axes=plt.subplots(1,2, figsize=(15,5))\n",
    "sn.histplot(x=Merged[\"Lineitem price_x\"], ax=axes[0], binwidth=40)\n",
    "sn.histplot(x=Merged[\"Lineitem price_x\"], ax=axes[1], binwidth=50, binrange=(140,250))\n",
    "axes[0].set_title(\"Item's Price Distribution\")\n",
    "axes[1].set_title(\"Item's Price Distribution between 140-250$ CAD\")"
   ]
  },
  {
   "cell_type": "code",
   "execution_count": 154,
   "id": "91d91e10-afea-42ab-916f-e07c36c53322",
   "metadata": {},
   "outputs": [],
   "source": [
    "Merged=Merged[Merged[\"Lineitem price_x\"]>250]"
   ]
  },
  {
   "cell_type": "code",
   "execution_count": 155,
   "id": "c7664bf0-f1d4-48cd-8886-98c6ff6d0f1b",
   "metadata": {
    "scrolled": true
   },
   "outputs": [
    {
     "data": {
      "text/plain": [
       "(1, 39)"
      ]
     },
     "execution_count": 155,
     "metadata": {},
     "output_type": "execute_result"
    }
   ],
   "source": [
    "Merged.shape"
   ]
  },
  {
   "cell_type": "code",
   "execution_count": 156,
   "id": "324d10dc-8380-49ff-b8b5-a71d351b68b0",
   "metadata": {},
   "outputs": [
    {
     "data": {
      "text/plain": [
       "(1, 39)"
      ]
     },
     "execution_count": 156,
     "metadata": {},
     "output_type": "execute_result"
    }
   ],
   "source": [
    "Merged[Merged[\"Shipping Country_x\"].isnull()].shape"
   ]
  },
  {
   "cell_type": "code",
   "execution_count": 157,
   "id": "d10972fc-1795-406a-8d3f-6779b3ed0d02",
   "metadata": {},
   "outputs": [
    {
     "name": "stderr",
     "output_type": "stream",
     "text": [
      "/var/folders/lk/wst_0sqs60d07nd2qn7mjc_r0000gn/T/ipykernel_27966/2054148575.py:9: SettingWithCopyWarning: \n",
      "A value is trying to be set on a copy of a slice from a DataFrame.\n",
      "Try using .loc[row_indexer,col_indexer] = value instead\n",
      "\n",
      "See the caveats in the documentation: https://pandas.pydata.org/pandas-docs/stable/user_guide/indexing.html#returning-a-view-versus-a-copy\n",
      "  Merged[\"Shipping Country\"] = Merged.apply(fill_shipping_country, axis=1)\n",
      "/var/folders/lk/wst_0sqs60d07nd2qn7mjc_r0000gn/T/ipykernel_27966/2054148575.py:19: SettingWithCopyWarning: \n",
      "A value is trying to be set on a copy of a slice from a DataFrame.\n",
      "Try using .loc[row_indexer,col_indexer] = value instead\n",
      "\n",
      "See the caveats in the documentation: https://pandas.pydata.org/pandas-docs/stable/user_guide/indexing.html#returning-a-view-versus-a-copy\n",
      "  Merged[\"Shipping Province\"] = Merged.apply(fill_shipping_province, axis=1)\n"
     ]
    }
   ],
   "source": [
    "def fill_shipping_country(row):\n",
    "    shipping_country_columns = [\"Shipping Country_x\", \"Shipping Country_y\", \"Billing Country_x\", \"Billing Country_y\"]\n",
    "    for col in shipping_country_columns:\n",
    "        if pd.notnull(row[col]):\n",
    "            return row[col]\n",
    "    return None  # Return None if all columns are null\n",
    "\n",
    "# Apply the function to the DataFrame\n",
    "Merged[\"Shipping Country\"] = Merged.apply(fill_shipping_country, axis=1)\n",
    "\n",
    "def fill_shipping_province(row):\n",
    "    shipping_province_columns = [\"Shipping Province_x\",\"Shipping Province_y\", \"Billing Province_x\", \"Billing Province_y\"]\n",
    "    for col in shipping_province_columns:\n",
    "        if pd.notnull(row[col]):\n",
    "            return row[col]\n",
    "    return None  # Return None if all columns are null\n",
    "\n",
    "# Apply the function to the DataFrame\n",
    "Merged[\"Shipping Province\"] = Merged.apply(fill_shipping_province, axis=1)"
   ]
  },
  {
   "cell_type": "code",
   "execution_count": 158,
   "id": "9c4ca80b-0d7a-4da5-803d-ece17ba25563",
   "metadata": {},
   "outputs": [],
   "source": [
    "Merged=Merged.drop(columns=[\"Shipping Country_x\",\"Shipping Province_x\",\"Shipping Country_y\",\"Shipping Province_y\",\"Billing Country_x\",\"Billing Province_x\", \"Billing Country_y\",\"Billing Province_y\"])"
   ]
  },
  {
   "cell_type": "code",
   "execution_count": 159,
   "id": "1620a8e2-885a-43af-bc17-99e42a05e89d",
   "metadata": {},
   "outputs": [],
   "source": [
    "Merged_Null=Merged[Merged[\"Discount Code_x\"].isnull()]\n",
    "Merged_Not_Null=Merged[~Merged[\"Discount Code_x\"].isnull()]"
   ]
  },
  {
   "cell_type": "code",
   "execution_count": 160,
   "id": "428b96a1-b96d-45df-9dbd-5a967e027934",
   "metadata": {},
   "outputs": [],
   "source": [
    "# Merged_Profitec_Null[\"Discount Code_x\"]=Merged_Profitec_Null[\"Discount Code_y\"]\n",
    "# Merged_Profitec_Null[\"Discount Amount_x\"]=Merged_Profitec_Null[\"Discount Amount_y\"]"
   ]
  },
  {
   "cell_type": "code",
   "execution_count": 161,
   "id": "105534b6-513e-48b7-ae60-2463e7c3beac",
   "metadata": {},
   "outputs": [],
   "source": [
    "def discount_code(row):\n",
    "    if pd.isnull(row[\"Discount Code_x\"]) and not pd.isnull(row[\"Discount Code_y\"]):\n",
    "        discount = row[\"Discount Code_y\"]\n",
    "    else:\n",
    "        discount = row[\"Discount Code_x\"]\n",
    "    return discount\n",
    "\n",
    "Merged_Null[\"Discount Code_x\"] = Merged_Null.apply(discount_code, axis=1)"
   ]
  },
  {
   "cell_type": "code",
   "execution_count": 162,
   "id": "94045eed-8e4b-4adf-bb3e-ae219fd9f669",
   "metadata": {},
   "outputs": [],
   "source": [
    "def discount_fix(row):\n",
    "    if pd.isnull(row[\"Discount Amount_x\"]) and not pd.isnull(row[\"Discount Amount_y\"]):\n",
    "        discount = row[\"Discount Amount_y\"]\n",
    "    else:\n",
    "        discount = row[\"Discount Amount_x\"]\n",
    "    return discount\n",
    "\n",
    "Merged_Null[\"Discount Amount_x\"] = Merged_Null.apply(discount_fix, axis=1)"
   ]
  },
  {
   "cell_type": "code",
   "execution_count": 163,
   "id": "f101cc39-baf3-4eab-b6b9-6915fdc81edc",
   "metadata": {},
   "outputs": [],
   "source": [
    "def outstanding_balance(row):\n",
    "    if pd.isnull(row[\"Outstanding Balance_x\"]) and not pd.isnull(row[\"Outstanding Balance_y\"]):\n",
    "        discount = row[\"Outstanding Balance_y\"]\n",
    "    else:\n",
    "        discount = row[\"Outstanding Balance_x\"]\n",
    "    return discount\n",
    "\n",
    "Merged_Null[\"Outstanding Balance_x\"] = Merged_Null.apply(outstanding_balance, axis=1)"
   ]
  },
  {
   "cell_type": "code",
   "execution_count": 164,
   "id": "e083415d-a668-44c8-9b2a-7c84afe3da48",
   "metadata": {},
   "outputs": [],
   "source": [
    "def date(row):\n",
    "    if pd.isnull(row[\"Paid at_x\"]) and not pd.isnull(row[\"Paid at_y\"]):\n",
    "        time = row[\"Paid at_y\"]\n",
    "    else:\n",
    "        time = row[\"Paid at_x\"]\n",
    "    return time\n",
    "\n",
    "Merged_Null[\"Paid at_x\"] = Merged_Null.apply(date, axis=1)"
   ]
  },
  {
   "cell_type": "code",
   "execution_count": 165,
   "id": "acaedb8f-ccb5-41e0-9d2e-bcd3c3d2d4fa",
   "metadata": {},
   "outputs": [
    {
     "data": {
      "text/html": [
       "<div>\n",
       "<style scoped>\n",
       "    .dataframe tbody tr th:only-of-type {\n",
       "        vertical-align: middle;\n",
       "    }\n",
       "\n",
       "    .dataframe tbody tr th {\n",
       "        vertical-align: top;\n",
       "    }\n",
       "\n",
       "    .dataframe thead th {\n",
       "        text-align: right;\n",
       "    }\n",
       "</style>\n",
       "<table border=\"1\" class=\"dataframe\">\n",
       "  <thead>\n",
       "    <tr style=\"text-align: right;\">\n",
       "      <th></th>\n",
       "      <th>Name</th>\n",
       "      <th>Paid at_x</th>\n",
       "      <th>Subtotal_x</th>\n",
       "      <th>Shipping_x</th>\n",
       "      <th>Taxes_x</th>\n",
       "      <th>Total_x</th>\n",
       "      <th>Discount Code_x</th>\n",
       "      <th>Discount Amount_x</th>\n",
       "      <th>Created at_x</th>\n",
       "      <th>Lineitem quantity_x</th>\n",
       "      <th>Lineitem name_x</th>\n",
       "      <th>Lineitem price_x</th>\n",
       "      <th>Refunded Amount_x</th>\n",
       "      <th>Vendor_x</th>\n",
       "      <th>Outstanding Balance_x</th>\n",
       "      <th>Lineitem discount_x</th>\n",
       "      <th>Paid at_y</th>\n",
       "      <th>Subtotal_y</th>\n",
       "      <th>Shipping_y</th>\n",
       "      <th>Taxes_y</th>\n",
       "      <th>Total_y</th>\n",
       "      <th>Discount Code_y</th>\n",
       "      <th>Discount Amount_y</th>\n",
       "      <th>Created at_y</th>\n",
       "      <th>Lineitem quantity_y</th>\n",
       "      <th>Lineitem name_y</th>\n",
       "      <th>Lineitem price_y</th>\n",
       "      <th>Refunded Amount_y</th>\n",
       "      <th>Vendor_y</th>\n",
       "      <th>Outstanding Balance_y</th>\n",
       "      <th>Lineitem discount_y</th>\n",
       "      <th>Shipping Country</th>\n",
       "      <th>Shipping Province</th>\n",
       "    </tr>\n",
       "  </thead>\n",
       "  <tbody>\n",
       "  </tbody>\n",
       "</table>\n",
       "</div>"
      ],
      "text/plain": [
       "Empty DataFrame\n",
       "Columns: [Name, Paid at_x, Subtotal_x, Shipping_x, Taxes_x, Total_x, Discount Code_x, Discount Amount_x, Created at_x, Lineitem quantity_x, Lineitem name_x, Lineitem price_x, Refunded Amount_x, Vendor_x, Outstanding Balance_x, Lineitem discount_x, Paid at_y, Subtotal_y, Shipping_y, Taxes_y, Total_y, Discount Code_y, Discount Amount_y, Created at_y, Lineitem quantity_y, Lineitem name_y, Lineitem price_y, Refunded Amount_y, Vendor_y, Outstanding Balance_y, Lineitem discount_y, Shipping Country, Shipping Province]\n",
       "Index: []"
      ]
     },
     "execution_count": 165,
     "metadata": {},
     "output_type": "execute_result"
    }
   ],
   "source": [
    "Merged_Null"
   ]
  },
  {
   "cell_type": "code",
   "execution_count": 166,
   "id": "ceceb7d3-eb86-49ed-a21f-485e39ac9875",
   "metadata": {},
   "outputs": [],
   "source": [
    "Merged_Null=pd.concat([Merged_Null,Merged_Not_Null])"
   ]
  },
  {
   "cell_type": "code",
   "execution_count": 167,
   "id": "734b2748-59fb-446a-a9ba-dc0f91589096",
   "metadata": {},
   "outputs": [
    {
     "data": {
      "text/plain": [
       "Index(['Name', 'Paid at_x', 'Subtotal_x', 'Shipping_x', 'Taxes_x', 'Total_x',\n",
       "       'Discount Code_x', 'Discount Amount_x', 'Created at_x',\n",
       "       'Lineitem quantity_x', 'Lineitem name_x', 'Lineitem price_x',\n",
       "       'Refunded Amount_x', 'Vendor_x', 'Outstanding Balance_x',\n",
       "       'Lineitem discount_x', 'Paid at_y', 'Subtotal_y', 'Shipping_y',\n",
       "       'Taxes_y', 'Total_y', 'Discount Code_y', 'Discount Amount_y',\n",
       "       'Created at_y', 'Lineitem quantity_y', 'Lineitem name_y',\n",
       "       'Lineitem price_y', 'Refunded Amount_y', 'Vendor_y',\n",
       "       'Outstanding Balance_y', 'Lineitem discount_y', 'Shipping Country',\n",
       "       'Shipping Province'],\n",
       "      dtype='object')"
      ]
     },
     "execution_count": 167,
     "metadata": {},
     "output_type": "execute_result"
    }
   ],
   "source": [
    "Merged_Null.columns"
   ]
  },
  {
   "cell_type": "code",
   "execution_count": 168,
   "id": "058d2926-9b82-4fc3-8038-9fffd10ce278",
   "metadata": {},
   "outputs": [],
   "source": [
    "Merged_Null.drop(columns=['Paid at_y', 'Created at_y', 'Lineitem quantity_y',\n",
    "       'Lineitem name_y', 'Lineitem price_y', 'Refunded Amount_y', 'Vendor_y',\n",
    "       'Outstanding Balance_y','Shipping_y'], inplace=True)"
   ]
  },
  {
   "cell_type": "code",
   "execution_count": 169,
   "id": "f76c5a77-a0fd-4c0d-94df-6c2ce9849787",
   "metadata": {},
   "outputs": [
    {
     "data": {
      "text/html": [
       "<div>\n",
       "<style scoped>\n",
       "    .dataframe tbody tr th:only-of-type {\n",
       "        vertical-align: middle;\n",
       "    }\n",
       "\n",
       "    .dataframe tbody tr th {\n",
       "        vertical-align: top;\n",
       "    }\n",
       "\n",
       "    .dataframe thead th {\n",
       "        text-align: right;\n",
       "    }\n",
       "</style>\n",
       "<table border=\"1\" class=\"dataframe\">\n",
       "  <thead>\n",
       "    <tr style=\"text-align: right;\">\n",
       "      <th></th>\n",
       "      <th>Name</th>\n",
       "      <th>Paid at_x</th>\n",
       "      <th>Subtotal_x</th>\n",
       "      <th>Shipping_x</th>\n",
       "      <th>Taxes_x</th>\n",
       "      <th>Total_x</th>\n",
       "      <th>Discount Code_x</th>\n",
       "      <th>Discount Amount_x</th>\n",
       "      <th>Created at_x</th>\n",
       "      <th>Lineitem quantity_x</th>\n",
       "      <th>Lineitem name_x</th>\n",
       "      <th>Lineitem price_x</th>\n",
       "      <th>Refunded Amount_x</th>\n",
       "      <th>Vendor_x</th>\n",
       "      <th>Outstanding Balance_x</th>\n",
       "      <th>Lineitem discount_x</th>\n",
       "      <th>Subtotal_y</th>\n",
       "      <th>Taxes_y</th>\n",
       "      <th>Total_y</th>\n",
       "      <th>Discount Code_y</th>\n",
       "      <th>Discount Amount_y</th>\n",
       "      <th>Lineitem discount_y</th>\n",
       "      <th>Shipping Country</th>\n",
       "      <th>Shipping Province</th>\n",
       "    </tr>\n",
       "  </thead>\n",
       "  <tbody>\n",
       "    <tr>\n",
       "      <th>3</th>\n",
       "      <td>#7459</td>\n",
       "      <td>2024-07-10 14:49:26 -0400</td>\n",
       "      <td>4000.0</td>\n",
       "      <td>0.0</td>\n",
       "      <td>520.0</td>\n",
       "      <td>4520.0</td>\n",
       "      <td>David discount</td>\n",
       "      <td>675.99</td>\n",
       "      <td>2024-07-10 18:48:54+00:00</td>\n",
       "      <td>1</td>\n",
       "      <td>ECM Synchronika PID with Flow Control Semi-Aut...</td>\n",
       "      <td>4675.99</td>\n",
       "      <td>0.0</td>\n",
       "      <td>ECM</td>\n",
       "      <td>0.0</td>\n",
       "      <td>0.0</td>\n",
       "      <td>4000.0</td>\n",
       "      <td>520.0</td>\n",
       "      <td>4520.0</td>\n",
       "      <td>David discount</td>\n",
       "      <td>675.99</td>\n",
       "      <td>0.0</td>\n",
       "      <td>None</td>\n",
       "      <td>None</td>\n",
       "    </tr>\n",
       "  </tbody>\n",
       "</table>\n",
       "</div>"
      ],
      "text/plain": [
       "    Name                  Paid at_x  Subtotal_x  Shipping_x  Taxes_x  Total_x  \\\n",
       "3  #7459  2024-07-10 14:49:26 -0400      4000.0         0.0    520.0   4520.0   \n",
       "\n",
       "   Discount Code_x  Discount Amount_x              Created at_x  \\\n",
       "3  David discount              675.99 2024-07-10 18:48:54+00:00   \n",
       "\n",
       "   Lineitem quantity_x                                    Lineitem name_x  \\\n",
       "3                    1  ECM Synchronika PID with Flow Control Semi-Aut...   \n",
       "\n",
       "   Lineitem price_x  Refunded Amount_x Vendor_x  Outstanding Balance_x  \\\n",
       "3           4675.99                0.0      ECM                    0.0   \n",
       "\n",
       "   Lineitem discount_x  Subtotal_y  Taxes_y  Total_y  Discount Code_y  \\\n",
       "3                  0.0      4000.0    520.0   4520.0  David discount    \n",
       "\n",
       "   Discount Amount_y  Lineitem discount_y Shipping Country Shipping Province  \n",
       "3             675.99                  0.0             None              None  "
      ]
     },
     "execution_count": 169,
     "metadata": {},
     "output_type": "execute_result"
    }
   ],
   "source": [
    "Merged_Null"
   ]
  },
  {
   "cell_type": "code",
   "execution_count": 170,
   "id": "49b718b6-d676-4db4-95c7-291734cbbf30",
   "metadata": {},
   "outputs": [],
   "source": [
    "E_data=Merged_Null"
   ]
  },
  {
   "cell_type": "code",
   "execution_count": 171,
   "id": "28635915-4e09-4880-8099-1c52f92ca66c",
   "metadata": {},
   "outputs": [
    {
     "name": "stdout",
     "output_type": "stream",
     "text": [
      "<class 'pandas.core.frame.DataFrame'>\n",
      "Index: 1 entries, 3 to 3\n",
      "Data columns (total 24 columns):\n",
      " #   Column                 Non-Null Count  Dtype              \n",
      "---  ------                 --------------  -----              \n",
      " 0   Name                   1 non-null      object             \n",
      " 1   Paid at_x              1 non-null      object             \n",
      " 2   Subtotal_x             1 non-null      float64            \n",
      " 3   Shipping_x             1 non-null      float64            \n",
      " 4   Taxes_x                1 non-null      float64            \n",
      " 5   Total_x                1 non-null      float64            \n",
      " 6   Discount Code_x        1 non-null      object             \n",
      " 7   Discount Amount_x      1 non-null      float64            \n",
      " 8   Created at_x           1 non-null      datetime64[ns, UTC]\n",
      " 9   Lineitem quantity_x    1 non-null      int64              \n",
      " 10  Lineitem name_x        1 non-null      object             \n",
      " 11  Lineitem price_x       1 non-null      float64            \n",
      " 12  Refunded Amount_x      1 non-null      float64            \n",
      " 13  Vendor_x               1 non-null      object             \n",
      " 14  Outstanding Balance_x  1 non-null      float64            \n",
      " 15  Lineitem discount_x    1 non-null      float64            \n",
      " 16  Subtotal_y             1 non-null      float64            \n",
      " 17  Taxes_y                1 non-null      float64            \n",
      " 18  Total_y                1 non-null      float64            \n",
      " 19  Discount Code_y        1 non-null      object             \n",
      " 20  Discount Amount_y      1 non-null      float64            \n",
      " 21  Lineitem discount_y    1 non-null      float64            \n",
      " 22  Shipping Country       0 non-null      object             \n",
      " 23  Shipping Province      0 non-null      object             \n",
      "dtypes: datetime64[ns, UTC](1), float64(14), int64(1), object(8)\n",
      "memory usage: 200.0+ bytes\n"
     ]
    }
   ],
   "source": [
    "E_data.info()"
   ]
  },
  {
   "cell_type": "code",
   "execution_count": 172,
   "id": "117ba7d1-b1b2-4714-b880-19c6e0121e89",
   "metadata": {},
   "outputs": [],
   "source": [
    "E_data[\"Discount Code_y\"]=E_data[\"Discount Code_y\"].fillna(\"No Code\")\n",
    "E_data[\"Discount Code_x\"]=E_data[\"Discount Code_x\"].fillna(\"No Code\")"
   ]
  },
  {
   "cell_type": "code",
   "execution_count": 173,
   "id": "a673fca8-b249-4c7c-8089-c30bc127f3cc",
   "metadata": {},
   "outputs": [],
   "source": [
    "E_data[\"Lineitem discount_y\"]=E_data[\"Lineitem discount_y\"].fillna(0)"
   ]
  },
  {
   "cell_type": "code",
   "execution_count": 174,
   "id": "13b5d6e6-3555-4725-a7ab-55a00ab1f6f1",
   "metadata": {},
   "outputs": [],
   "source": [
    "# def discount_function(row):\n",
    "#     if row[\"Lineitem discount_x\"]==0 and row[\"Lineitem discount_y\"]==0 and  row[\"Discount Amount_x\"]>row[\"Lineitem price_x\"]*0.095 and row[\"Discount Code_x\"] not in (\"Custom discount\", \"No Code\"):\n",
    "#         discount=round(row[\"Lineitem price_x\"]*0.1,2)\n",
    "#     elif row[\"Discount Code_x\"]==\"Custom discount\":\n",
    "#         discount=round(row[\"Discount Amount_x\"]*row[\"Lineitem price_x\"]/row[\"Subtotal_x\"],2)\n",
    "#     else:\n",
    "#         discount=row[\"Lineitem discount_x\"]\n",
    "#     return discount"
   ]
  },
  {
   "cell_type": "code",
   "execution_count": 175,
   "id": "e6e80b59-94c5-432d-a29a-f955b8a0f206",
   "metadata": {},
   "outputs": [],
   "source": [
    "# E_data[\"Discount Amount_x\"]=E_data.apply(discount_function, axis=1)"
   ]
  },
  {
   "cell_type": "code",
   "execution_count": 176,
   "id": "c88107f3-0aa1-4e77-adb8-cc0d542e8ae6",
   "metadata": {},
   "outputs": [
    {
     "data": {
      "text/plain": [
       "Lineitem name_x\n",
       "ECM Synchronika PID with Flow Control Semi-Automatic Espresso Machine (Stainless Steel)    1\n",
       "Name: count, dtype: int64"
      ]
     },
     "execution_count": 176,
     "metadata": {},
     "output_type": "execute_result"
    }
   ],
   "source": [
    "E_data[\"Lineitem name_x\"].value_counts()"
   ]
  },
  {
   "cell_type": "code",
   "execution_count": 177,
   "id": "4126e1cd-cb34-4b74-a5b0-d0bf88375b5c",
   "metadata": {},
   "outputs": [],
   "source": [
    "# E_data[\"Discount Amount_x\"]=E_data[\"Discount Amount_x\"].fillna(0)"
   ]
  },
  {
   "cell_type": "code",
   "execution_count": 178,
   "id": "0d86b3c0-99ff-43c2-810e-f36df34513e3",
   "metadata": {},
   "outputs": [
    {
     "data": {
      "text/html": [
       "<div>\n",
       "<style scoped>\n",
       "    .dataframe tbody tr th:only-of-type {\n",
       "        vertical-align: middle;\n",
       "    }\n",
       "\n",
       "    .dataframe tbody tr th {\n",
       "        vertical-align: top;\n",
       "    }\n",
       "\n",
       "    .dataframe thead th {\n",
       "        text-align: right;\n",
       "    }\n",
       "</style>\n",
       "<table border=\"1\" class=\"dataframe\">\n",
       "  <thead>\n",
       "    <tr style=\"text-align: right;\">\n",
       "      <th></th>\n",
       "      <th>Name</th>\n",
       "      <th>Paid at_x</th>\n",
       "      <th>Subtotal_x</th>\n",
       "      <th>Shipping_x</th>\n",
       "      <th>Taxes_x</th>\n",
       "      <th>Total_x</th>\n",
       "      <th>Discount Code_x</th>\n",
       "      <th>Discount Amount_x</th>\n",
       "      <th>Created at_x</th>\n",
       "      <th>Lineitem quantity_x</th>\n",
       "      <th>Lineitem name_x</th>\n",
       "      <th>Lineitem price_x</th>\n",
       "      <th>Refunded Amount_x</th>\n",
       "      <th>Vendor_x</th>\n",
       "      <th>Outstanding Balance_x</th>\n",
       "      <th>Lineitem discount_x</th>\n",
       "      <th>Subtotal_y</th>\n",
       "      <th>Taxes_y</th>\n",
       "      <th>Total_y</th>\n",
       "      <th>Discount Code_y</th>\n",
       "      <th>Discount Amount_y</th>\n",
       "      <th>Lineitem discount_y</th>\n",
       "      <th>Shipping Country</th>\n",
       "      <th>Shipping Province</th>\n",
       "    </tr>\n",
       "  </thead>\n",
       "  <tbody>\n",
       "    <tr>\n",
       "      <th>3</th>\n",
       "      <td>#7459</td>\n",
       "      <td>2024-07-10 14:49:26 -0400</td>\n",
       "      <td>4000.0</td>\n",
       "      <td>0.0</td>\n",
       "      <td>520.0</td>\n",
       "      <td>4520.0</td>\n",
       "      <td>David discount</td>\n",
       "      <td>675.99</td>\n",
       "      <td>2024-07-10 18:48:54+00:00</td>\n",
       "      <td>1</td>\n",
       "      <td>ECM Synchronika PID with Flow Control Semi-Aut...</td>\n",
       "      <td>4675.99</td>\n",
       "      <td>0.0</td>\n",
       "      <td>ECM</td>\n",
       "      <td>0.0</td>\n",
       "      <td>0.0</td>\n",
       "      <td>4000.0</td>\n",
       "      <td>520.0</td>\n",
       "      <td>4520.0</td>\n",
       "      <td>David discount</td>\n",
       "      <td>675.99</td>\n",
       "      <td>0.0</td>\n",
       "      <td>None</td>\n",
       "      <td>None</td>\n",
       "    </tr>\n",
       "  </tbody>\n",
       "</table>\n",
       "</div>"
      ],
      "text/plain": [
       "    Name                  Paid at_x  Subtotal_x  Shipping_x  Taxes_x  Total_x  \\\n",
       "3  #7459  2024-07-10 14:49:26 -0400      4000.0         0.0    520.0   4520.0   \n",
       "\n",
       "   Discount Code_x  Discount Amount_x              Created at_x  \\\n",
       "3  David discount              675.99 2024-07-10 18:48:54+00:00   \n",
       "\n",
       "   Lineitem quantity_x                                    Lineitem name_x  \\\n",
       "3                    1  ECM Synchronika PID with Flow Control Semi-Aut...   \n",
       "\n",
       "   Lineitem price_x  Refunded Amount_x Vendor_x  Outstanding Balance_x  \\\n",
       "3           4675.99                0.0      ECM                    0.0   \n",
       "\n",
       "   Lineitem discount_x  Subtotal_y  Taxes_y  Total_y  Discount Code_y  \\\n",
       "3                  0.0      4000.0    520.0   4520.0  David discount    \n",
       "\n",
       "   Discount Amount_y  Lineitem discount_y Shipping Country Shipping Province  \n",
       "3             675.99                  0.0             None              None  "
      ]
     },
     "execution_count": 178,
     "metadata": {},
     "output_type": "execute_result"
    }
   ],
   "source": [
    "E_data[\"Subtotal_x\"]=E_data[\"Lineitem price_x\"]-E_data[\"Discount Amount_x\"]\n",
    "E_data.head(1)"
   ]
  },
  {
   "cell_type": "code",
   "execution_count": 179,
   "id": "b1f3625e-807e-4b11-827c-ba4a496f7cf4",
   "metadata": {},
   "outputs": [],
   "source": [
    "E_data=E_data.drop(columns=['Subtotal_y', 'Taxes_y','Total_y','Discount Code_y', 'Lineitem discount_y'])"
   ]
  },
  {
   "cell_type": "code",
   "execution_count": 180,
   "id": "e74fbe87-0a33-4da7-9ec2-9b7f8d45acf4",
   "metadata": {},
   "outputs": [],
   "source": [
    "tax_perc={\"ON\":13,\n",
    "         \"QC\":5,\n",
    "         \"BC\":5,\n",
    "         \"NS\":15}"
   ]
  },
  {
   "cell_type": "code",
   "execution_count": 181,
   "id": "b7259cd3-7f5b-41df-875a-1dc756cb2f4a",
   "metadata": {},
   "outputs": [],
   "source": [
    "E_data[\"Shipping Country\"]=E_data[\"Shipping Country\"].fillna(\"CA\")\n",
    "E_data[\"Shipping Province\"]=E_data[\"Shipping Province\"].fillna(\"ON\")"
   ]
  },
  {
   "cell_type": "code",
   "execution_count": 182,
   "id": "817f191b-5384-460c-bc77-b57f3ea3018b",
   "metadata": {},
   "outputs": [],
   "source": [
    "E_data[\"Tax %\"]=E_data[\"Shipping Province\"].map(tax_perc)\n",
    "E_data[\"Tax %\"]=E_data[\"Tax %\"].fillna(0)"
   ]
  },
  {
   "cell_type": "code",
   "execution_count": 183,
   "id": "a18acdaa-e966-441d-8c1e-c330a37cd33b",
   "metadata": {
    "scrolled": true
   },
   "outputs": [
    {
     "data": {
      "text/html": [
       "<div>\n",
       "<style scoped>\n",
       "    .dataframe tbody tr th:only-of-type {\n",
       "        vertical-align: middle;\n",
       "    }\n",
       "\n",
       "    .dataframe tbody tr th {\n",
       "        vertical-align: top;\n",
       "    }\n",
       "\n",
       "    .dataframe thead th {\n",
       "        text-align: right;\n",
       "    }\n",
       "</style>\n",
       "<table border=\"1\" class=\"dataframe\">\n",
       "  <thead>\n",
       "    <tr style=\"text-align: right;\">\n",
       "      <th></th>\n",
       "      <th>Name</th>\n",
       "      <th>Paid at_x</th>\n",
       "      <th>Subtotal_x</th>\n",
       "      <th>Shipping_x</th>\n",
       "      <th>Taxes_x</th>\n",
       "      <th>Total_x</th>\n",
       "      <th>Discount Code_x</th>\n",
       "      <th>Discount Amount_x</th>\n",
       "      <th>Created at_x</th>\n",
       "      <th>Lineitem quantity_x</th>\n",
       "      <th>Lineitem name_x</th>\n",
       "      <th>Lineitem price_x</th>\n",
       "      <th>Refunded Amount_x</th>\n",
       "      <th>Vendor_x</th>\n",
       "      <th>Outstanding Balance_x</th>\n",
       "      <th>Lineitem discount_x</th>\n",
       "      <th>Discount Amount_y</th>\n",
       "      <th>Shipping Country</th>\n",
       "      <th>Shipping Province</th>\n",
       "      <th>Tax %</th>\n",
       "    </tr>\n",
       "  </thead>\n",
       "  <tbody>\n",
       "    <tr>\n",
       "      <th>3</th>\n",
       "      <td>#7459</td>\n",
       "      <td>2024-07-10 14:49:26 -0400</td>\n",
       "      <td>4000.0</td>\n",
       "      <td>0.0</td>\n",
       "      <td>520.0</td>\n",
       "      <td>4520.0</td>\n",
       "      <td>David discount</td>\n",
       "      <td>675.99</td>\n",
       "      <td>2024-07-10 18:48:54+00:00</td>\n",
       "      <td>1</td>\n",
       "      <td>ECM Synchronika PID with Flow Control Semi-Aut...</td>\n",
       "      <td>4675.99</td>\n",
       "      <td>0.0</td>\n",
       "      <td>ECM</td>\n",
       "      <td>0.0</td>\n",
       "      <td>0.0</td>\n",
       "      <td>675.99</td>\n",
       "      <td>CA</td>\n",
       "      <td>ON</td>\n",
       "      <td>13</td>\n",
       "    </tr>\n",
       "  </tbody>\n",
       "</table>\n",
       "</div>"
      ],
      "text/plain": [
       "    Name                  Paid at_x  Subtotal_x  Shipping_x  Taxes_x  Total_x  \\\n",
       "3  #7459  2024-07-10 14:49:26 -0400      4000.0         0.0    520.0   4520.0   \n",
       "\n",
       "   Discount Code_x  Discount Amount_x              Created at_x  \\\n",
       "3  David discount              675.99 2024-07-10 18:48:54+00:00   \n",
       "\n",
       "   Lineitem quantity_x                                    Lineitem name_x  \\\n",
       "3                    1  ECM Synchronika PID with Flow Control Semi-Aut...   \n",
       "\n",
       "   Lineitem price_x  Refunded Amount_x Vendor_x  Outstanding Balance_x  \\\n",
       "3           4675.99                0.0      ECM                    0.0   \n",
       "\n",
       "   Lineitem discount_x  Discount Amount_y Shipping Country Shipping Province  \\\n",
       "3                  0.0             675.99               CA                ON   \n",
       "\n",
       "   Tax %  \n",
       "3     13  "
      ]
     },
     "execution_count": 183,
     "metadata": {},
     "output_type": "execute_result"
    }
   ],
   "source": [
    "E_data"
   ]
  },
  {
   "cell_type": "code",
   "execution_count": 184,
   "id": "eae92b71-de1a-4194-9494-206ebb9cd5bd",
   "metadata": {},
   "outputs": [],
   "source": [
    "def tax_func(row):\n",
    "    if row[\"Shipping Country\"]==\"CA\":\n",
    "        return round((row[\"Lineitem price_x\"]-row[\"Discount Amount_x\"])*row[\"Tax %\"]/100,2)\n",
    "    else:\n",
    "        return 0"
   ]
  },
  {
   "cell_type": "code",
   "execution_count": 185,
   "id": "ab0f1886-c4d7-406a-935c-37011255c1b4",
   "metadata": {},
   "outputs": [],
   "source": [
    "E_data[\"Gross Sale\"]=E_data[\"Lineitem price_x\"]+E_data[\"Taxes_x\"]"
   ]
  },
  {
   "cell_type": "code",
   "execution_count": 186,
   "id": "c8669000-fb44-4b4b-8bc0-5bc6517cb279",
   "metadata": {},
   "outputs": [],
   "source": [
    "E_data[\"Taxes_x\"]=E_data.apply(tax_func, axis=1)"
   ]
  },
  {
   "cell_type": "code",
   "execution_count": 187,
   "id": "cbe1a5d5-fb37-4784-97dc-f29ab92dee48",
   "metadata": {
    "scrolled": true
   },
   "outputs": [
    {
     "data": {
      "text/html": [
       "<div>\n",
       "<style scoped>\n",
       "    .dataframe tbody tr th:only-of-type {\n",
       "        vertical-align: middle;\n",
       "    }\n",
       "\n",
       "    .dataframe tbody tr th {\n",
       "        vertical-align: top;\n",
       "    }\n",
       "\n",
       "    .dataframe thead th {\n",
       "        text-align: right;\n",
       "    }\n",
       "</style>\n",
       "<table border=\"1\" class=\"dataframe\">\n",
       "  <thead>\n",
       "    <tr style=\"text-align: right;\">\n",
       "      <th></th>\n",
       "      <th>Name</th>\n",
       "      <th>Paid at_x</th>\n",
       "      <th>Subtotal_x</th>\n",
       "      <th>Shipping_x</th>\n",
       "      <th>Taxes_x</th>\n",
       "      <th>Total_x</th>\n",
       "      <th>Discount Code_x</th>\n",
       "      <th>Discount Amount_x</th>\n",
       "      <th>Created at_x</th>\n",
       "      <th>Lineitem quantity_x</th>\n",
       "      <th>Lineitem name_x</th>\n",
       "      <th>Lineitem price_x</th>\n",
       "      <th>Refunded Amount_x</th>\n",
       "      <th>Vendor_x</th>\n",
       "      <th>Outstanding Balance_x</th>\n",
       "      <th>Lineitem discount_x</th>\n",
       "      <th>Discount Amount_y</th>\n",
       "      <th>Shipping Country</th>\n",
       "      <th>Shipping Province</th>\n",
       "      <th>Tax %</th>\n",
       "      <th>Gross Sale</th>\n",
       "    </tr>\n",
       "  </thead>\n",
       "  <tbody>\n",
       "    <tr>\n",
       "      <th>3</th>\n",
       "      <td>#7459</td>\n",
       "      <td>2024-07-10 14:49:26 -0400</td>\n",
       "      <td>4000.0</td>\n",
       "      <td>0.0</td>\n",
       "      <td>520.0</td>\n",
       "      <td>4520.0</td>\n",
       "      <td>David discount</td>\n",
       "      <td>675.99</td>\n",
       "      <td>2024-07-10 18:48:54+00:00</td>\n",
       "      <td>1</td>\n",
       "      <td>ECM Synchronika PID with Flow Control Semi-Aut...</td>\n",
       "      <td>4675.99</td>\n",
       "      <td>0.0</td>\n",
       "      <td>ECM</td>\n",
       "      <td>0.0</td>\n",
       "      <td>0.0</td>\n",
       "      <td>675.99</td>\n",
       "      <td>CA</td>\n",
       "      <td>ON</td>\n",
       "      <td>13</td>\n",
       "      <td>5195.99</td>\n",
       "    </tr>\n",
       "  </tbody>\n",
       "</table>\n",
       "</div>"
      ],
      "text/plain": [
       "    Name                  Paid at_x  Subtotal_x  Shipping_x  Taxes_x  Total_x  \\\n",
       "3  #7459  2024-07-10 14:49:26 -0400      4000.0         0.0    520.0   4520.0   \n",
       "\n",
       "   Discount Code_x  Discount Amount_x              Created at_x  \\\n",
       "3  David discount              675.99 2024-07-10 18:48:54+00:00   \n",
       "\n",
       "   Lineitem quantity_x                                    Lineitem name_x  \\\n",
       "3                    1  ECM Synchronika PID with Flow Control Semi-Aut...   \n",
       "\n",
       "   Lineitem price_x  Refunded Amount_x Vendor_x  Outstanding Balance_x  \\\n",
       "3           4675.99                0.0      ECM                    0.0   \n",
       "\n",
       "   Lineitem discount_x  Discount Amount_y Shipping Country Shipping Province  \\\n",
       "3                  0.0             675.99               CA                ON   \n",
       "\n",
       "   Tax %  Gross Sale  \n",
       "3     13     5195.99  "
      ]
     },
     "execution_count": 187,
     "metadata": {},
     "output_type": "execute_result"
    }
   ],
   "source": [
    "E_data"
   ]
  },
  {
   "cell_type": "code",
   "execution_count": 188,
   "id": "77cf6c3e-d2fb-4fc3-afe3-2ed7aaee5823",
   "metadata": {},
   "outputs": [],
   "source": [
    "E_data[\"Shipping_x\"]=E_data[\"Shipping_x\"].fillna(0)\n",
    "E_data[\"Shipping_x\"]=E_data[\"Shipping_x\"].replace(0,60)"
   ]
  },
  {
   "cell_type": "markdown",
   "id": "b13e1d3c-7b69-4a49-8a6e-d63a2a4ad955",
   "metadata": {},
   "source": [
    "# FINALIZE"
   ]
  },
  {
   "cell_type": "markdown",
   "id": "276b9b74-2400-4dd6-b44a-5b2f50f142e7",
   "metadata": {},
   "source": [
    "1. Gross Sale --> Sales after tax and discounts\n",
    "2. Net Sale --> Gross Sale after refunds\n",
    "3. Shipping --> 50$\n",
    "4. Card Fee --> 4%\n",
    "5. Cost --> COGS Price List\n",
    "6. Gross Profit --> [Net Sale]-[Shipping]-[Card Fee]-[Cost](COGS for Gross Sale)"
   ]
  },
  {
   "cell_type": "code",
   "execution_count": 189,
   "id": "44e79578-5520-4abe-945e-e30e81696884",
   "metadata": {},
   "outputs": [],
   "source": [
    "E_data[\"Gross Sale\"]=E_data[\"Lineitem price_x\"]+E_data[\"Taxes_x\"]-E_data[\"Discount Amount_x\"]"
   ]
  },
  {
   "cell_type": "code",
   "execution_count": 190,
   "id": "3e49ac0b-7fb2-4bb5-a29a-1dcdb71e2f04",
   "metadata": {},
   "outputs": [
    {
     "data": {
      "text/html": [
       "<div>\n",
       "<style scoped>\n",
       "    .dataframe tbody tr th:only-of-type {\n",
       "        vertical-align: middle;\n",
       "    }\n",
       "\n",
       "    .dataframe tbody tr th {\n",
       "        vertical-align: top;\n",
       "    }\n",
       "\n",
       "    .dataframe thead th {\n",
       "        text-align: right;\n",
       "    }\n",
       "</style>\n",
       "<table border=\"1\" class=\"dataframe\">\n",
       "  <thead>\n",
       "    <tr style=\"text-align: right;\">\n",
       "      <th></th>\n",
       "      <th>Name</th>\n",
       "      <th>Paid at_x</th>\n",
       "      <th>Subtotal_x</th>\n",
       "      <th>Shipping_x</th>\n",
       "      <th>Taxes_x</th>\n",
       "      <th>Total_x</th>\n",
       "      <th>Discount Code_x</th>\n",
       "      <th>Discount Amount_x</th>\n",
       "      <th>Created at_x</th>\n",
       "      <th>Lineitem quantity_x</th>\n",
       "      <th>Lineitem name_x</th>\n",
       "      <th>Lineitem price_x</th>\n",
       "      <th>Refunded Amount_x</th>\n",
       "      <th>Vendor_x</th>\n",
       "      <th>Outstanding Balance_x</th>\n",
       "      <th>Lineitem discount_x</th>\n",
       "      <th>Discount Amount_y</th>\n",
       "      <th>Shipping Country</th>\n",
       "      <th>Shipping Province</th>\n",
       "      <th>Tax %</th>\n",
       "      <th>Gross Sale</th>\n",
       "    </tr>\n",
       "  </thead>\n",
       "  <tbody>\n",
       "    <tr>\n",
       "      <th>3</th>\n",
       "      <td>#7459</td>\n",
       "      <td>2024-07-10 14:49:26 -0400</td>\n",
       "      <td>4000.0</td>\n",
       "      <td>60.0</td>\n",
       "      <td>520.0</td>\n",
       "      <td>4520.0</td>\n",
       "      <td>David discount</td>\n",
       "      <td>675.99</td>\n",
       "      <td>2024-07-10 18:48:54+00:00</td>\n",
       "      <td>1</td>\n",
       "      <td>ECM Synchronika PID with Flow Control Semi-Aut...</td>\n",
       "      <td>4675.99</td>\n",
       "      <td>0.0</td>\n",
       "      <td>ECM</td>\n",
       "      <td>0.0</td>\n",
       "      <td>0.0</td>\n",
       "      <td>675.99</td>\n",
       "      <td>CA</td>\n",
       "      <td>ON</td>\n",
       "      <td>13</td>\n",
       "      <td>4520.0</td>\n",
       "    </tr>\n",
       "  </tbody>\n",
       "</table>\n",
       "</div>"
      ],
      "text/plain": [
       "    Name                  Paid at_x  Subtotal_x  Shipping_x  Taxes_x  Total_x  \\\n",
       "3  #7459  2024-07-10 14:49:26 -0400      4000.0        60.0    520.0   4520.0   \n",
       "\n",
       "   Discount Code_x  Discount Amount_x              Created at_x  \\\n",
       "3  David discount              675.99 2024-07-10 18:48:54+00:00   \n",
       "\n",
       "   Lineitem quantity_x                                    Lineitem name_x  \\\n",
       "3                    1  ECM Synchronika PID with Flow Control Semi-Aut...   \n",
       "\n",
       "   Lineitem price_x  Refunded Amount_x Vendor_x  Outstanding Balance_x  \\\n",
       "3           4675.99                0.0      ECM                    0.0   \n",
       "\n",
       "   Lineitem discount_x  Discount Amount_y Shipping Country Shipping Province  \\\n",
       "3                  0.0             675.99               CA                ON   \n",
       "\n",
       "   Tax %  Gross Sale  \n",
       "3     13      4520.0  "
      ]
     },
     "execution_count": 190,
     "metadata": {},
     "output_type": "execute_result"
    }
   ],
   "source": [
    "E_data"
   ]
  },
  {
   "cell_type": "code",
   "execution_count": 191,
   "id": "eec2e386-43f5-4a93-bbf6-08abcdfb7f5b",
   "metadata": {},
   "outputs": [
    {
     "data": {
      "text/html": [
       "<div>\n",
       "<style scoped>\n",
       "    .dataframe tbody tr th:only-of-type {\n",
       "        vertical-align: middle;\n",
       "    }\n",
       "\n",
       "    .dataframe tbody tr th {\n",
       "        vertical-align: top;\n",
       "    }\n",
       "\n",
       "    .dataframe thead th {\n",
       "        text-align: right;\n",
       "    }\n",
       "</style>\n",
       "<table border=\"1\" class=\"dataframe\">\n",
       "  <thead>\n",
       "    <tr style=\"text-align: right;\">\n",
       "      <th></th>\n",
       "      <th>Name</th>\n",
       "      <th>Paid at_x</th>\n",
       "      <th>Subtotal_x</th>\n",
       "      <th>Shipping_x</th>\n",
       "      <th>Taxes_x</th>\n",
       "      <th>Total_x</th>\n",
       "      <th>Discount Code_x</th>\n",
       "      <th>Discount Amount_x</th>\n",
       "      <th>Created at_x</th>\n",
       "      <th>Lineitem quantity_x</th>\n",
       "      <th>Lineitem name_x</th>\n",
       "      <th>Lineitem price_x</th>\n",
       "      <th>Refunded Amount_x</th>\n",
       "      <th>Vendor_x</th>\n",
       "      <th>Outstanding Balance_x</th>\n",
       "      <th>Lineitem discount_x</th>\n",
       "      <th>Discount Amount_y</th>\n",
       "      <th>Shipping Country</th>\n",
       "      <th>Shipping Province</th>\n",
       "      <th>Tax %</th>\n",
       "      <th>Gross Sale</th>\n",
       "    </tr>\n",
       "  </thead>\n",
       "  <tbody>\n",
       "    <tr>\n",
       "      <th>3</th>\n",
       "      <td>#7459</td>\n",
       "      <td>2024-07-10 14:49:26 -0400</td>\n",
       "      <td>4000.0</td>\n",
       "      <td>60.0</td>\n",
       "      <td>520.0</td>\n",
       "      <td>4520.0</td>\n",
       "      <td>David discount</td>\n",
       "      <td>675.99</td>\n",
       "      <td>2024-07-10 18:48:54+00:00</td>\n",
       "      <td>1</td>\n",
       "      <td>ECM Synchronika PID with Flow Control Semi-Aut...</td>\n",
       "      <td>4675.99</td>\n",
       "      <td>0.0</td>\n",
       "      <td>ECM</td>\n",
       "      <td>0.0</td>\n",
       "      <td>0.0</td>\n",
       "      <td>675.99</td>\n",
       "      <td>CA</td>\n",
       "      <td>ON</td>\n",
       "      <td>13</td>\n",
       "      <td>4520.0</td>\n",
       "    </tr>\n",
       "  </tbody>\n",
       "</table>\n",
       "</div>"
      ],
      "text/plain": [
       "    Name                  Paid at_x  Subtotal_x  Shipping_x  Taxes_x  Total_x  \\\n",
       "3  #7459  2024-07-10 14:49:26 -0400      4000.0        60.0    520.0   4520.0   \n",
       "\n",
       "   Discount Code_x  Discount Amount_x              Created at_x  \\\n",
       "3  David discount              675.99 2024-07-10 18:48:54+00:00   \n",
       "\n",
       "   Lineitem quantity_x                                    Lineitem name_x  \\\n",
       "3                    1  ECM Synchronika PID with Flow Control Semi-Aut...   \n",
       "\n",
       "   Lineitem price_x  Refunded Amount_x Vendor_x  Outstanding Balance_x  \\\n",
       "3           4675.99                0.0      ECM                    0.0   \n",
       "\n",
       "   Lineitem discount_x  Discount Amount_y Shipping Country Shipping Province  \\\n",
       "3                  0.0             675.99               CA                ON   \n",
       "\n",
       "   Tax %  Gross Sale  \n",
       "3     13      4520.0  "
      ]
     },
     "execution_count": 191,
     "metadata": {},
     "output_type": "execute_result"
    }
   ],
   "source": [
    "Final=E_data[['Name','Paid at_x','Lineitem name_x','Gross Sale','Lineitem price_x', 'Shipping_x', 'Taxes_x', 'Discount Amount_x','Refunded Amount_x']]\n",
    "E_data.head(6)"
   ]
  },
  {
   "cell_type": "code",
   "execution_count": 192,
   "id": "e53b8689-cf2c-4ead-8ac5-b77986d32bcf",
   "metadata": {},
   "outputs": [
    {
     "data": {
      "text/plain": [
       "array(['ECM Synchronika PID with Flow Control Semi-Automatic Espresso Machine (Stainless Steel)'],\n",
       "      dtype=object)"
      ]
     },
     "execution_count": 192,
     "metadata": {},
     "output_type": "execute_result"
    }
   ],
   "source": [
    "Final[\"Lineitem name_x\"].unique()"
   ]
  },
  {
   "cell_type": "code",
   "execution_count": 193,
   "id": "050faa01-057b-4b3a-b565-8e6303bf2ef1",
   "metadata": {},
   "outputs": [
    {
     "data": {
      "text/html": [
       "<div>\n",
       "<style scoped>\n",
       "    .dataframe tbody tr th:only-of-type {\n",
       "        vertical-align: middle;\n",
       "    }\n",
       "\n",
       "    .dataframe tbody tr th {\n",
       "        vertical-align: top;\n",
       "    }\n",
       "\n",
       "    .dataframe thead th {\n",
       "        text-align: right;\n",
       "    }\n",
       "</style>\n",
       "<table border=\"1\" class=\"dataframe\">\n",
       "  <thead>\n",
       "    <tr style=\"text-align: right;\">\n",
       "      <th></th>\n",
       "      <th>Lineitem name_x</th>\n",
       "      <th>Cost ($CAD)</th>\n",
       "    </tr>\n",
       "  </thead>\n",
       "  <tbody>\n",
       "    <tr>\n",
       "      <th>0</th>\n",
       "      <td>ECM Synchronika PID with Flow Control Semi-Aut...</td>\n",
       "      <td>3480</td>\n",
       "    </tr>\n",
       "  </tbody>\n",
       "</table>\n",
       "</div>"
      ],
      "text/plain": [
       "                                     Lineitem name_x  Cost ($CAD)\n",
       "0  ECM Synchronika PID with Flow Control Semi-Aut...         3480"
      ]
     },
     "execution_count": 193,
     "metadata": {},
     "output_type": "execute_result"
    }
   ],
   "source": [
    "dict_product={'ECM Synchronika PID with Flow Control Semi-Automatic Espresso Machine (Stainless Steel)':3480}\n",
    "\n",
    "pro_pr_list=pd.DataFrame({\"Lineitem name_x\":dict_product.keys(),\n",
    "                         \"Cost ($CAD)\":dict_product.values()})\n",
    "pro_pr_list"
   ]
  },
  {
   "cell_type": "code",
   "execution_count": 194,
   "id": "6c167373-7988-4a2b-9c66-c21d49a3350b",
   "metadata": {},
   "outputs": [],
   "source": [
    "Final=pd.merge(Final, pro_pr_list, on=\"Lineitem name_x\", how=\"left\")"
   ]
  },
  {
   "cell_type": "code",
   "execution_count": 195,
   "id": "9825e8b4-96c9-43c6-83d5-14a5f5cbe630",
   "metadata": {},
   "outputs": [],
   "source": [
    "Final[\"Refunded Amount_x\"]=Final[\"Refunded Amount_x\"].fillna(0)"
   ]
  },
  {
   "cell_type": "code",
   "execution_count": 196,
   "id": "ef6dc80b-d234-48ed-a217-da8c927dbda0",
   "metadata": {},
   "outputs": [
    {
     "data": {
      "text/html": [
       "<div>\n",
       "<style scoped>\n",
       "    .dataframe tbody tr th:only-of-type {\n",
       "        vertical-align: middle;\n",
       "    }\n",
       "\n",
       "    .dataframe tbody tr th {\n",
       "        vertical-align: top;\n",
       "    }\n",
       "\n",
       "    .dataframe thead th {\n",
       "        text-align: right;\n",
       "    }\n",
       "</style>\n",
       "<table border=\"1\" class=\"dataframe\">\n",
       "  <thead>\n",
       "    <tr style=\"text-align: right;\">\n",
       "      <th></th>\n",
       "      <th>Name</th>\n",
       "      <th>Paid at_x</th>\n",
       "      <th>Lineitem name_x</th>\n",
       "      <th>Gross Sale</th>\n",
       "      <th>Lineitem price_x</th>\n",
       "      <th>Shipping_x</th>\n",
       "      <th>Taxes_x</th>\n",
       "      <th>Discount Amount_x</th>\n",
       "      <th>Refunded Amount_x</th>\n",
       "      <th>Cost ($CAD)</th>\n",
       "    </tr>\n",
       "  </thead>\n",
       "  <tbody>\n",
       "    <tr>\n",
       "      <th>0</th>\n",
       "      <td>#7459</td>\n",
       "      <td>2024-07-10 14:49:26 -0400</td>\n",
       "      <td>ECM Synchronika PID with Flow Control Semi-Aut...</td>\n",
       "      <td>4520.0</td>\n",
       "      <td>4675.99</td>\n",
       "      <td>60.0</td>\n",
       "      <td>520.0</td>\n",
       "      <td>675.99</td>\n",
       "      <td>0.0</td>\n",
       "      <td>3480</td>\n",
       "    </tr>\n",
       "  </tbody>\n",
       "</table>\n",
       "</div>"
      ],
      "text/plain": [
       "    Name                  Paid at_x  \\\n",
       "0  #7459  2024-07-10 14:49:26 -0400   \n",
       "\n",
       "                                     Lineitem name_x  Gross Sale  \\\n",
       "0  ECM Synchronika PID with Flow Control Semi-Aut...      4520.0   \n",
       "\n",
       "   Lineitem price_x  Shipping_x  Taxes_x  Discount Amount_x  \\\n",
       "0           4675.99        60.0    520.0             675.99   \n",
       "\n",
       "   Refunded Amount_x  Cost ($CAD)  \n",
       "0                0.0         3480  "
      ]
     },
     "execution_count": 196,
     "metadata": {},
     "output_type": "execute_result"
    }
   ],
   "source": [
    "Final"
   ]
  },
  {
   "cell_type": "code",
   "execution_count": 197,
   "id": "e7567093-2ef7-40a7-b596-282a5329e5cb",
   "metadata": {},
   "outputs": [],
   "source": [
    "Final[\"Net Sale ($CAD)\"]=Final[\"Gross Sale\"]-Final[\"Refunded Amount_x\"]"
   ]
  },
  {
   "cell_type": "code",
   "execution_count": 198,
   "id": "d0eb06dc-353d-4083-aaf9-f8cceb3fc6f4",
   "metadata": {},
   "outputs": [
    {
     "data": {
      "text/html": [
       "<div>\n",
       "<style scoped>\n",
       "    .dataframe tbody tr th:only-of-type {\n",
       "        vertical-align: middle;\n",
       "    }\n",
       "\n",
       "    .dataframe tbody tr th {\n",
       "        vertical-align: top;\n",
       "    }\n",
       "\n",
       "    .dataframe thead th {\n",
       "        text-align: right;\n",
       "    }\n",
       "</style>\n",
       "<table border=\"1\" class=\"dataframe\">\n",
       "  <thead>\n",
       "    <tr style=\"text-align: right;\">\n",
       "      <th></th>\n",
       "      <th>Name</th>\n",
       "      <th>Paid at_x</th>\n",
       "      <th>Lineitem name_x</th>\n",
       "      <th>Gross Sale</th>\n",
       "      <th>Lineitem price_x</th>\n",
       "      <th>Shipping_x</th>\n",
       "      <th>Taxes_x</th>\n",
       "      <th>Discount Amount_x</th>\n",
       "      <th>Refunded Amount_x</th>\n",
       "      <th>Cost ($CAD)</th>\n",
       "      <th>Net Sale ($CAD)</th>\n",
       "    </tr>\n",
       "  </thead>\n",
       "  <tbody>\n",
       "    <tr>\n",
       "      <th>0</th>\n",
       "      <td>#7459</td>\n",
       "      <td>2024-07-10 14:49:26 -0400</td>\n",
       "      <td>ECM Synchronika PID with Flow Control Semi-Aut...</td>\n",
       "      <td>4520.0</td>\n",
       "      <td>4675.99</td>\n",
       "      <td>60.0</td>\n",
       "      <td>520.0</td>\n",
       "      <td>675.99</td>\n",
       "      <td>0.0</td>\n",
       "      <td>3480</td>\n",
       "      <td>4520.0</td>\n",
       "    </tr>\n",
       "  </tbody>\n",
       "</table>\n",
       "</div>"
      ],
      "text/plain": [
       "    Name                  Paid at_x  \\\n",
       "0  #7459  2024-07-10 14:49:26 -0400   \n",
       "\n",
       "                                     Lineitem name_x  Gross Sale  \\\n",
       "0  ECM Synchronika PID with Flow Control Semi-Aut...      4520.0   \n",
       "\n",
       "   Lineitem price_x  Shipping_x  Taxes_x  Discount Amount_x  \\\n",
       "0           4675.99        60.0    520.0             675.99   \n",
       "\n",
       "   Refunded Amount_x  Cost ($CAD)  Net Sale ($CAD)  \n",
       "0                0.0         3480           4520.0  "
      ]
     },
     "execution_count": 198,
     "metadata": {},
     "output_type": "execute_result"
    }
   ],
   "source": [
    "Final.head(6)"
   ]
  },
  {
   "cell_type": "code",
   "execution_count": 199,
   "id": "e0840458-9d18-45cd-bc99-c53de482a4f2",
   "metadata": {},
   "outputs": [],
   "source": [
    "Final[\"Card Fee 4% ($CAD)\"]=round(Final[\"Net Sale ($CAD)\"]*4/100,2)"
   ]
  },
  {
   "cell_type": "code",
   "execution_count": 200,
   "id": "f51c0447-0e5f-40eb-9822-6bd93791fe92",
   "metadata": {},
   "outputs": [],
   "source": [
    "Final[\"Gross Profit ($CAD)\"]=Final[\"Net Sale ($CAD)\"]-Final['Card Fee 4% ($CAD)']-Final[\"Cost ($CAD)\"]-Final[\"Shipping_x\"]"
   ]
  },
  {
   "cell_type": "code",
   "execution_count": 201,
   "id": "1e3adbdf-9570-44c4-a5fe-916d04eabe46",
   "metadata": {},
   "outputs": [],
   "source": [
    "Final=Final[['Name', 'Paid at_x','Lineitem name_x', 'Gross Sale','Net Sale ($CAD)', 'Card Fee 4% ($CAD)', 'Shipping_x', 'Cost ($CAD)','Gross Profit ($CAD)']]"
   ]
  },
  {
   "cell_type": "code",
   "execution_count": 202,
   "id": "f0f1fbb3-c24e-4b2d-a420-d781de41f1b6",
   "metadata": {},
   "outputs": [
    {
     "data": {
      "text/plain": [
       "Index(['Name', 'Paid at_x', 'Lineitem name_x', 'Gross Sale', 'Net Sale ($CAD)',\n",
       "       'Card Fee 4% ($CAD)', 'Shipping_x', 'Cost ($CAD)',\n",
       "       'Gross Profit ($CAD)'],\n",
       "      dtype='object')"
      ]
     },
     "execution_count": 202,
     "metadata": {},
     "output_type": "execute_result"
    }
   ],
   "source": [
    "Final.columns"
   ]
  },
  {
   "cell_type": "code",
   "execution_count": 203,
   "id": "40502499-a154-40e6-b484-6a7327c31f6a",
   "metadata": {},
   "outputs": [
    {
     "data": {
      "text/html": [
       "<div>\n",
       "<style scoped>\n",
       "    .dataframe tbody tr th:only-of-type {\n",
       "        vertical-align: middle;\n",
       "    }\n",
       "\n",
       "    .dataframe tbody tr th {\n",
       "        vertical-align: top;\n",
       "    }\n",
       "\n",
       "    .dataframe thead th {\n",
       "        text-align: right;\n",
       "    }\n",
       "</style>\n",
       "<table border=\"1\" class=\"dataframe\">\n",
       "  <thead>\n",
       "    <tr style=\"text-align: right;\">\n",
       "      <th></th>\n",
       "      <th>Name</th>\n",
       "      <th>Paid at_x</th>\n",
       "      <th>Lineitem name_x</th>\n",
       "      <th>Gross Sale</th>\n",
       "      <th>Net Sale ($CAD)</th>\n",
       "      <th>Card Fee 4% ($CAD)</th>\n",
       "      <th>Shipping_x</th>\n",
       "      <th>Cost ($CAD)</th>\n",
       "      <th>Gross Profit ($CAD)</th>\n",
       "    </tr>\n",
       "  </thead>\n",
       "  <tbody>\n",
       "    <tr>\n",
       "      <th>0</th>\n",
       "      <td>#7459</td>\n",
       "      <td>2024-07-10 14:49:26 -0400</td>\n",
       "      <td>ECM Synchronika PID with Flow Control Semi-Aut...</td>\n",
       "      <td>4520.0</td>\n",
       "      <td>4520.0</td>\n",
       "      <td>180.8</td>\n",
       "      <td>60.0</td>\n",
       "      <td>3480</td>\n",
       "      <td>799.2</td>\n",
       "    </tr>\n",
       "  </tbody>\n",
       "</table>\n",
       "</div>"
      ],
      "text/plain": [
       "    Name                  Paid at_x  \\\n",
       "0  #7459  2024-07-10 14:49:26 -0400   \n",
       "\n",
       "                                     Lineitem name_x  Gross Sale  \\\n",
       "0  ECM Synchronika PID with Flow Control Semi-Aut...      4520.0   \n",
       "\n",
       "   Net Sale ($CAD)  Card Fee 4% ($CAD)  Shipping_x  Cost ($CAD)  \\\n",
       "0           4520.0               180.8        60.0         3480   \n",
       "\n",
       "   Gross Profit ($CAD)  \n",
       "0                799.2  "
      ]
     },
     "execution_count": 203,
     "metadata": {},
     "output_type": "execute_result"
    }
   ],
   "source": [
    "Final"
   ]
  },
  {
   "cell_type": "code",
   "execution_count": 204,
   "id": "ad316997-718e-49cd-b44c-f56d90bb6cb7",
   "metadata": {
    "scrolled": true
   },
   "outputs": [
    {
     "name": "stderr",
     "output_type": "stream",
     "text": [
      "/var/folders/lk/wst_0sqs60d07nd2qn7mjc_r0000gn/T/ipykernel_27966/2017990147.py:1: SettingWithCopyWarning: \n",
      "A value is trying to be set on a copy of a slice from a DataFrame\n",
      "\n",
      "See the caveats in the documentation: https://pandas.pydata.org/pandas-docs/stable/user_guide/indexing.html#returning-a-view-versus-a-copy\n",
      "  Final.rename(columns={\"Name\":\"Order Number\",\n"
     ]
    }
   ],
   "source": [
    "Final.rename(columns={\"Name\":\"Order Number\",\n",
    "                      \"Paid at_x\":\" Transaction date\",\n",
    "                     \"Lineitem name_x\": \"Product's Name\",\n",
    "                     \"Shipping_x\":\"Shipping Cost ($CAD)\",\n",
    "                     \"Gross Sale\":\"Gross Sale ($CAD)\"}, inplace=True)"
   ]
  },
  {
   "cell_type": "code",
   "execution_count": 205,
   "id": "88089f08-cac7-4126-8d83-eb064c571d3a",
   "metadata": {},
   "outputs": [],
   "source": [
    "Final_dict={\"Number of Orders\":Final[\"Product's Name\"].count(),\n",
    "            \"Gross Sale ($CAD)\":Final[\"Gross Sale ($CAD)\"].sum(),\n",
    "            \"Net Sale ($CAD)\":round(Final[\"Net Sale ($CAD)\"].sum(),2),\n",
    "           \"Total Cost ($CAD)\":Final[\"Cost ($CAD)\"].sum(),\n",
    "           \"Total Shipping ($CAD)\":Final[\"Shipping Cost ($CAD)\"].sum(),\n",
    "           \"Gross Profit ($CAD)\":Final[\"Gross Profit ($CAD)\"].sum()}\n",
    "Show_Data=pd.DataFrame(Final_dict, index=[\"ECM Summary\"])"
   ]
  },
  {
   "cell_type": "code",
   "execution_count": 206,
   "id": "38d106af-d4e8-4d26-9312-ce8ebe8dff03",
   "metadata": {},
   "outputs": [
    {
     "name": "stderr",
     "output_type": "stream",
     "text": [
      "/var/folders/lk/wst_0sqs60d07nd2qn7mjc_r0000gn/T/ipykernel_27966/3499138284.py:1: SettingWithCopyWarning: \n",
      "A value is trying to be set on a copy of a slice from a DataFrame.\n",
      "Try using .loc[row_indexer,col_indexer] = value instead\n",
      "\n",
      "See the caveats in the documentation: https://pandas.pydata.org/pandas-docs/stable/user_guide/indexing.html#returning-a-view-versus-a-copy\n",
      "  Final[\"Gross Profit Margin (%)\"]=round(Final[\"Gross Profit ($CAD)\"]/Final[\"Gross Sale ($CAD)\"]*100,2)\n"
     ]
    }
   ],
   "source": [
    "Final[\"Gross Profit Margin (%)\"]=round(Final[\"Gross Profit ($CAD)\"]/Final[\"Gross Sale ($CAD)\"]*100,2)"
   ]
  },
  {
   "cell_type": "code",
   "execution_count": 207,
   "id": "7a8eb32f-c7ee-4c59-9835-631842ce9856",
   "metadata": {},
   "outputs": [
    {
     "data": {
      "text/html": [
       "<div>\n",
       "<style scoped>\n",
       "    .dataframe tbody tr th:only-of-type {\n",
       "        vertical-align: middle;\n",
       "    }\n",
       "\n",
       "    .dataframe tbody tr th {\n",
       "        vertical-align: top;\n",
       "    }\n",
       "\n",
       "    .dataframe thead th {\n",
       "        text-align: right;\n",
       "    }\n",
       "</style>\n",
       "<table border=\"1\" class=\"dataframe\">\n",
       "  <thead>\n",
       "    <tr style=\"text-align: right;\">\n",
       "      <th></th>\n",
       "      <th>Number of Orders</th>\n",
       "      <th>Gross Sale ($CAD)</th>\n",
       "      <th>Net Sale ($CAD)</th>\n",
       "      <th>Total Cost ($CAD)</th>\n",
       "      <th>Total Shipping ($CAD)</th>\n",
       "      <th>Gross Profit ($CAD)</th>\n",
       "    </tr>\n",
       "  </thead>\n",
       "  <tbody>\n",
       "    <tr>\n",
       "      <th>ECM Summary</th>\n",
       "      <td>1</td>\n",
       "      <td>4520.0</td>\n",
       "      <td>4520.0</td>\n",
       "      <td>3480</td>\n",
       "      <td>60.0</td>\n",
       "      <td>799.2</td>\n",
       "    </tr>\n",
       "  </tbody>\n",
       "</table>\n",
       "</div>"
      ],
      "text/plain": [
       "             Number of Orders  Gross Sale ($CAD)  Net Sale ($CAD)  \\\n",
       "ECM Summary                 1             4520.0           4520.0   \n",
       "\n",
       "             Total Cost ($CAD)  Total Shipping ($CAD)  Gross Profit ($CAD)  \n",
       "ECM Summary               3480                   60.0                799.2  "
      ]
     },
     "execution_count": 207,
     "metadata": {},
     "output_type": "execute_result"
    }
   ],
   "source": [
    "Show_Data"
   ]
  },
  {
   "cell_type": "code",
   "execution_count": 208,
   "id": "936ef68e-81e5-4036-9643-8b603547fca4",
   "metadata": {},
   "outputs": [],
   "source": [
    "# Final.to_csv(\"Results/Last_90days ECM.csv\")"
   ]
  },
  {
   "cell_type": "code",
   "execution_count": 209,
   "id": "fd21754d-9113-43e2-bdc3-0a3e998b485a",
   "metadata": {},
   "outputs": [
    {
     "data": {
      "text/html": [
       "<div>\n",
       "<style scoped>\n",
       "    .dataframe tbody tr th:only-of-type {\n",
       "        vertical-align: middle;\n",
       "    }\n",
       "\n",
       "    .dataframe tbody tr th {\n",
       "        vertical-align: top;\n",
       "    }\n",
       "\n",
       "    .dataframe thead th {\n",
       "        text-align: right;\n",
       "    }\n",
       "</style>\n",
       "<table border=\"1\" class=\"dataframe\">\n",
       "  <thead>\n",
       "    <tr style=\"text-align: right;\">\n",
       "      <th></th>\n",
       "      <th>Order Number</th>\n",
       "      <th>Transaction date</th>\n",
       "      <th>Product's Name</th>\n",
       "      <th>Gross Sale ($CAD)</th>\n",
       "      <th>Net Sale ($CAD)</th>\n",
       "      <th>Card Fee 4% ($CAD)</th>\n",
       "      <th>Shipping Cost ($CAD)</th>\n",
       "      <th>Cost ($CAD)</th>\n",
       "      <th>Gross Profit ($CAD)</th>\n",
       "      <th>Gross Profit Margin (%)</th>\n",
       "    </tr>\n",
       "  </thead>\n",
       "  <tbody>\n",
       "    <tr>\n",
       "      <th>0</th>\n",
       "      <td>#7459</td>\n",
       "      <td>2024-07-10 14:49:26 -0400</td>\n",
       "      <td>ECM Synchronika PID with Flow Control Semi-Aut...</td>\n",
       "      <td>4520.0</td>\n",
       "      <td>4520.0</td>\n",
       "      <td>180.8</td>\n",
       "      <td>60.0</td>\n",
       "      <td>3480</td>\n",
       "      <td>799.2</td>\n",
       "      <td>17.68</td>\n",
       "    </tr>\n",
       "  </tbody>\n",
       "</table>\n",
       "</div>"
      ],
      "text/plain": [
       "  Order Number           Transaction date  \\\n",
       "0        #7459  2024-07-10 14:49:26 -0400   \n",
       "\n",
       "                                      Product's Name  Gross Sale ($CAD)  \\\n",
       "0  ECM Synchronika PID with Flow Control Semi-Aut...             4520.0   \n",
       "\n",
       "   Net Sale ($CAD)  Card Fee 4% ($CAD)  Shipping Cost ($CAD)  Cost ($CAD)  \\\n",
       "0           4520.0               180.8                  60.0         3480   \n",
       "\n",
       "   Gross Profit ($CAD)  Gross Profit Margin (%)  \n",
       "0                799.2                    17.68  "
      ]
     },
     "execution_count": 209,
     "metadata": {},
     "output_type": "execute_result"
    }
   ],
   "source": [
    "Final"
   ]
  }
 ],
 "metadata": {
  "kernelspec": {
   "display_name": "Python 3 (ipykernel)",
   "language": "python",
   "name": "python3"
  },
  "language_info": {
   "codemirror_mode": {
    "name": "ipython",
    "version": 3
   },
   "file_extension": ".py",
   "mimetype": "text/x-python",
   "name": "python",
   "nbconvert_exporter": "python",
   "pygments_lexer": "ipython3",
   "version": "3.12.3"
  }
 },
 "nbformat": 4,
 "nbformat_minor": 5
}
